{
  "nbformat": 4,
  "nbformat_minor": 0,
  "metadata": {
    "colab": {
      "name": "Line search.ipynb",
      "provenance": [],
      "authorship_tag": "ABX9TyPBVhAGC9XxTPb4Sw9fC9UW",
      "include_colab_link": true
    },
    "kernelspec": {
      "name": "python3",
      "display_name": "Python 3"
    }
  },
  "cells": [
    {
      "cell_type": "markdown",
      "metadata": {
        "id": "view-in-github",
        "colab_type": "text"
      },
      "source": [
        "<a href=\"https://colab.research.google.com/github/MerkulovDaniil/optim/blob/master/assets/Notebooks/Line_search.ipynb\" target=\"_parent\"><img src=\"https://colab.research.google.com/assets/colab-badge.svg\" alt=\"Open In Colab\"/></a>"
      ]
    },
    {
      "cell_type": "markdown",
      "metadata": {
        "id": "UbfXK-CrG87p",
        "colab_type": "text"
      },
      "source": [
        "# General formulation\n",
        "Suppose, we have a problem of minimization function $f(x): \\mathbb{R} \\to \\mathbb{R}$ of scalar variable:\n",
        "$$\n",
        "f(x) \\to \\min_{x \\in \\mathbb{R}}\n",
        "$$\n",
        "\n",
        "Sometimes, we refer to the similar problem of finding minimum on the line segment $[a,b]$:\n",
        "\n",
        "$$\n",
        "f(x) \\to \\min_{x \\in [a,b]}\n",
        "$$"
      ]
    },
    {
      "cell_type": "markdown",
      "metadata": {
        "id": "LG_PMYo9HTfl",
        "colab_type": "text"
      },
      "source": [
        "## Random search"
      ]
    },
    {
      "cell_type": "code",
      "metadata": {
        "id": "BHpf5HVQG42P",
        "colab_type": "code",
        "colab": {}
      },
      "source": [
        "from scipy.optimize import OptimizeResult\n",
        "from scipy.optimize import minimize\n",
        "\n",
        "def callback(xk, f, funs, xs, loc_lens):\n",
        "    funs.append(f(xk))\n",
        "    xs.append(xk)\n",
        "    loc_lens.append(x_b - x_a)\n",
        "\n",
        "def random_line_search(fun, x0, args=(), maxfev=None,\n",
        "        maxiter=100, callback=None, **options):\n",
        "    tol, x_a, x_b = options['tol'], options['x_a'], options['x_b']\n",
        "    x_best = x0\n",
        "    f_best = fun(x0)\n",
        "    funcalls = 1\n",
        "    niter = 0\n",
        "    stop = False\n",
        "    success = False\n",
        "\n",
        "    while not stop and niter < maxiter:\n",
        "        improved = False\n",
        "        niter += 1\n",
        "        funcalls += 1\n",
        "        x_guess = np.random.uniform(x_a,x_b)\n",
        "        f_guess = fun(x_guess)\n",
        "        \n",
        "        if f_guess <= f_best:\n",
        "            f_best = f_guess\n",
        "            x_best = x_guess\n",
        "        \n",
        "        if callback is not None:\n",
        "            callback(x_best)\n",
        "        \n",
        "        if (x_b - x_a < tol):\n",
        "            success = True\n",
        "\n",
        "        if (maxfev is not None and funcalls >= maxfev) or (x_b - x_a < tol):\n",
        "            stop = True\n",
        "            break\n",
        "\n",
        "    return OptimizeResult(fun=f_best, x=x_best, nit=niter,\n",
        "                          nfev=funcalls, success=(niter > 1))\n",
        "    \n",
        "def random_bracket_line_search(fun, x0, args=(), maxfev=None,\n",
        "        maxiter=100, callback=None, **options):\n",
        "    tol, x_a, x_b = options['tol'], options['x_a'], options['x_b']\n",
        "    x_best = x0\n",
        "    funcalls = 0\n",
        "    niter = 0\n",
        "    stop = False\n",
        "    success = False\n",
        "\n",
        "    while not stop and niter < maxiter:\n",
        "        improved = False\n",
        "        niter += 1\n",
        "        funcalls += 2\n",
        "        \n",
        "        x_guess_left    = np.random.uniform(x_a, x_b)\n",
        "        x_guess_right   = np.random.uniform(x_a, x_b)\n",
        "        x_guess_left, x_guess_right = min(x_guess_left, x_guess_right), max(x_guess_left, x_guess_right)\n",
        "        f_guess_left    = fun(x_guess_left)\n",
        "        f_guess_right   = fun(x_guess_right)\n",
        "\n",
        "        if f_guess_left <= f_guess_right:\n",
        "            x_b = x_guess_right\n",
        "        else:\n",
        "            x_a = x_guess_left\n",
        "\n",
        "        x_best = (x_a + x_b)/2\n",
        "        f_best = fun(x_best)\n",
        "        \n",
        "        if callback is not None:\n",
        "            callback(x_best)\n",
        "        \n",
        "        if (x_b - x_a < tol):\n",
        "            success = True\n",
        "\n",
        "        if (maxfev is not None and funcalls >= maxfev) or (x_b - x_a < tol):\n",
        "            stop = True\n",
        "            break\n",
        "\n",
        "        \n",
        "    return OptimizeResult(fun=f_best, x=x_best, nit=niter,\n",
        "                          nfev=funcalls, success=success)"
      ],
      "execution_count": 0,
      "outputs": []
    },
    {
      "cell_type": "markdown",
      "metadata": {
        "id": "jTyPudWFsK71",
        "colab_type": "text"
      },
      "source": [
        "# Binary search"
      ]
    },
    {
      "cell_type": "code",
      "metadata": {
        "id": "SAfla4BNsN69",
        "colab_type": "code",
        "colab": {}
      },
      "source": [
        "def binary_search(fun, x0, args=(), maxfev=None,\n",
        "        maxiter=100, callback=None, **options):\n",
        "    tol, x_a, x_b = options['tol'], options['x_a'], options['x_b']\n",
        "    x_best = x0\n",
        "    funcalls = 1\n",
        "    niter = 0\n",
        "    stop = False\n",
        "    success = False\n",
        "\n",
        "    while not stop and niter < maxiter:\n",
        "        niter += 1\n",
        "        x_c = (x_a + x_b) / 2\n",
        "        x_y = (x_a + x_c) / 2\n",
        "        funcalls += 1\n",
        "        if fun(x_y) <= fun(x_c):\n",
        "            x_b = x_c\n",
        "            x_c = x_y\n",
        "        else:\n",
        "            x_z = (x_b + x_c) / 2\n",
        "            funcalls += 1\n",
        "            if fun(x_c) <= fun(x_z):\n",
        "                x_a = x_y\n",
        "                x_b = x_z\n",
        "            else:\n",
        "                x_a = x_c\n",
        "                x_c = x_z\n",
        "\n",
        "        x_best = x_c\n",
        "        f_best = fun(x_c)\n",
        "        \n",
        "        if callback is not None:\n",
        "            callback(x_best)\n",
        "        \n",
        "        if (x_b - x_a < tol):\n",
        "            success = True\n",
        "\n",
        "        if (maxfev is not None and funcalls >= maxfev) or (x_b - x_a < tol):\n",
        "            stop = True\n",
        "            break\n",
        "\n",
        "        \n",
        "    return OptimizeResult(fun=f_best, x=x_best, nit=niter,\n",
        "                          nfev=funcalls, success=success)"
      ],
      "execution_count": 0,
      "outputs": []
    },
    {
      "cell_type": "markdown",
      "metadata": {
        "id": "aMwG7AgSsOiI",
        "colab_type": "text"
      },
      "source": [
        "# Golden search"
      ]
    },
    {
      "cell_type": "code",
      "metadata": {
        "id": "cd6XnT28sSOA",
        "colab_type": "code",
        "colab": {}
      },
      "source": [
        " def golden_search(fun, x0, args=(), maxfev=None,\n",
        "        maxiter=100, callback=None, **options):\n",
        "    tol, x_a, x_b = options['tol'], options['x_a'], options['x_b']\n",
        "    x_best = x0\n",
        "    funcalls = 1\n",
        "    niter = 0\n",
        "    stop = False\n",
        "    success = False\n",
        "\n",
        "    while not stop and niter < maxiter:\n",
        "        niter += 1\n",
        "        tau = (np.sqrt(5) + 1) / 2.0\n",
        "        x_y = x_a + (x_b - x_a) / tau**2\n",
        "        x_z = x_a + (x_b - x_a) / tau\n",
        "        funcalls += 1\n",
        "        if f(x_y) <= f(x_z):\n",
        "            x_b = x_z\n",
        "            x_z = x_y\n",
        "            x_y = x_a + (x_b - x_a) / tau**2\n",
        "        else:\n",
        "            x_a = x_y\n",
        "            x_y = x_z\n",
        "            x_z = x_a + (x_b - x_a) / tau\n",
        "\n",
        "        x_best = x_z\n",
        "        f_best = fun(x_z)\n",
        "        \n",
        "        if callback is not None:\n",
        "            callback(x_best)\n",
        "        \n",
        "        if (x_b - x_a < tol):\n",
        "            success = True\n",
        "\n",
        "        if (maxfev is not None and funcalls >= maxfev) or (x_b - x_a < tol):\n",
        "            stop = True\n",
        "            break\n",
        "\n",
        "    return OptimizeResult(fun=f_best, x=x_best, nit=niter,\n",
        "                          nfev=funcalls, success=success)"
      ],
      "execution_count": 0,
      "outputs": []
    },
    {
      "cell_type": "markdown",
      "metadata": {
        "id": "LPrHmYmhsRvR",
        "colab_type": "text"
      },
      "source": [
        "# Fibbonaci method"
      ]
    },
    {
      "cell_type": "code",
      "metadata": {
        "id": "s4TDmWwuQ6p8",
        "colab_type": "code",
        "colab": {}
      },
      "source": [
        ""
      ],
      "execution_count": 0,
      "outputs": []
    },
    {
      "cell_type": "markdown",
      "metadata": {
        "id": "Gzw-q5RNtodV",
        "colab_type": "text"
      },
      "source": [
        "# Successive parabolic interpolation"
      ]
    },
    {
      "cell_type": "code",
      "metadata": {
        "id": "s1wU8f0pttNu",
        "colab_type": "code",
        "colab": {}
      },
      "source": [
        ""
      ],
      "execution_count": 0,
      "outputs": []
    },
    {
      "cell_type": "markdown",
      "metadata": {
        "id": "9qJxwVqEucs4",
        "colab_type": "text"
      },
      "source": [
        "# Brent's method"
      ]
    },
    {
      "cell_type": "code",
      "metadata": {
        "id": "SXxwo9n6vvYB",
        "colab_type": "code",
        "colab": {}
      },
      "source": [
        ""
      ],
      "execution_count": 0,
      "outputs": []
    },
    {
      "cell_type": "code",
      "metadata": {
        "id": "iHnDNhEjwmrn",
        "colab_type": "code",
        "colab": {}
      },
      "source": [
        "f_1 = lambda x: np.sin(np.sin(np.sin(np.sqrt(x/2))))\n",
        "# x = np.linspace(10,120)\n",
        "\n",
        "def inverse_maxwell(x, a):\n",
        "    return -np.sqrt(2/math.pi) * x**2*np.exp(-x**2/(2*(a)**2))/(a)**3\n",
        "f_2 = lambda x: inverse_maxwell(x, 2) + 1\n",
        "# x = np.linspace(0,10)\n",
        "f_3 = lambda x: (x - 2) * x * (x + 2)**2 + 10\n",
        "\n",
        "def callback(xk, f, funs, xs):\n",
        "    funs.append(f(xk))\n",
        "    xs.append(xk)"
      ],
      "execution_count": 0,
      "outputs": []
    },
    {
      "cell_type": "code",
      "metadata": {
        "id": "6mX5U4M6q12j",
        "colab_type": "code",
        "colab": {
          "base_uri": "https://localhost:8080/",
          "height": 300
        },
        "cellView": "form",
        "outputId": "c413e063-e3ec-498b-b735-f57727d35518"
      },
      "source": [
        "#@title Line search optimizers comparison { run: \"auto\" }\n",
        "optimizers = []\n",
        "Random_bracket_search = True #@param {type:\"boolean\"}\n",
        "Binary_search = True #@param {type:\"boolean\"}\n",
        "Golden_search = True #@param {type:\"boolean\"}\n",
        "if Random_bracket_search:\n",
        "    optimizers.append('random search')\n",
        "if Binary_search:\n",
        "    optimizers.append('binary search')\n",
        "if Golden_search:\n",
        "    optimizers.append('golden search')\n",
        "\n",
        "Function = 'Inverse Maxwell' #@param ['Inverse Maxwell', \"sin(sin(sin(sqrt(x/2))))\", \"(x - 2) * x * (x + 2)**2\"] \n",
        "a =  0#@param {type:\"number\"}\n",
        "b =  10#@param {type:\"number\"}\n",
        "tolerance =  1e-12#@param {type:\"number\"}\n",
        "tolerances_bound =  1e-15#@param {type:\"number\"}\n",
        "tolerances = np.logspace(np.log10(tolerances_bound), 0)\n",
        "print(f\"🤓 We'll compare {optimizers} on the {Function} function on the [{a}, {b}] interval\")\n",
        "\n",
        "if Function == 'Inverse Maxwell':\n",
        "    func = f_2\n",
        "elif Function == 'sin(sin(sin(sqrt(x/2))))':\n",
        "    func = f_1\n",
        "elif Function == '(x - 2) * x * (x + 2)**2':\n",
        "    func = f_3\n",
        "\n",
        "x = np.linspace(a,b)\n",
        "\n",
        "fig, axs = plt.subplots(1, 3, figsize=(20,4))\n",
        "\n",
        "axs[0].plot(x, func(x))\n",
        "axs[0].set_ylabel('f(x)')\n",
        "axs[0].set_xlabel('x')\n",
        "axs[0].grid()\n",
        "\n",
        "x0 = (a+b)/2   \n",
        "\n",
        "for opt in optimizers:\n",
        "    if opt == 'random search':\n",
        "        funs_rbls = []\n",
        "        xs_rbls = []\n",
        "        n_it_rbls = []\n",
        "        callback_rbls = lambda xk: callback(xk, func, funs_rbls, xs_rbls)\n",
        "        res = minimize(func, x0, method=random_bracket_line_search, callback=callback_rbls, options={'maxiter': 100, 'tol': 1e-3, 'x_a': a, 'x_b': b})\n",
        "        axs[1].semilogy(funs_rbls, label='Random')\n",
        "        for tolerance_ in tolerances:\n",
        "            res = minimize(func, x0, method=random_bracket_line_search, callback=callback_rbls, options={'maxiter': 1000, 'tol': tolerance_, 'x_a': a, 'x_b': b})\n",
        "            n_it_rbls.append(res.nit)\n",
        "        axs[2].semilogx(tolerances, n_it_rbls, label='Random')\n",
        "    elif opt == 'binary search':\n",
        "        funs_bs = []\n",
        "        xs_bs = []\n",
        "        n_it_bs = []\n",
        "        callback_bs = lambda xk: callback(xk, func, funs_bs, xs_bs)\n",
        "        res = minimize(func, x0, method=binary_search, callback=callback_bs, options={'maxiter': 100, 'tol': 1e-10, 'x_a': a, 'x_b': b})\n",
        "        axs[1].semilogy(funs_bs,   label='Binary')\n",
        "        for tolerance_ in tolerances:\n",
        "            res = minimize(func, x0, method=binary_search, callback=callback_rbls, options={'maxiter': 1000, 'tol': tolerance_, 'x_a': a, 'x_b': b})\n",
        "            n_it_bs.append(res.nit)\n",
        "        axs[2].semilogx(tolerances, n_it_bs, label='Binary')\n",
        "    elif opt == 'golden search':\n",
        "        funs_gs = []\n",
        "        xs_gs = []\n",
        "        n_it_gs = []\n",
        "        callback_gs = lambda xk: callback(xk, func, funs_gs, xs_gs)\n",
        "        res = minimize(func, x0, method=golden_search, callback=callback_gs, options={'maxiter': 100, 'tol': 1e-3, 'x_a': a, 'x_b': b})\n",
        "        axs[1].semilogy(funs_gs,   label='Golden')\n",
        "        for tolerance_ in tolerances:\n",
        "            res = minimize(func, x0, method=golden_search, callback=callback_rbls, options={'maxiter': 1000, 'tol': tolerance_, 'x_a': a, 'x_b': b})\n",
        "            n_it_gs.append(res.nit)\n",
        "        axs[2].semilogx(tolerances, n_it_gs, label='Golden')\n",
        "\n",
        "axs[2].set_ylabel('Iterations')\n",
        "axs[2].set_xlabel('Tolerance')\n",
        "axs[2].grid()\n",
        "axs[2].legend()\n",
        "\n",
        "axs[1].set_ylabel(f'$f(x_k)$')\n",
        "axs[1].set_xlabel('Iteration')\n",
        "axs[1].grid()\n",
        "axs[1].legend()\n",
        "plt.show()\n"
      ],
      "execution_count": 310,
      "outputs": [
        {
          "output_type": "stream",
          "text": [
            "🤓 We'll compare ['random search', 'binary search', 'golden search'] on the Inverse Maxwell function on the [0, 10] interval\n"
          ],
          "name": "stdout"
        },
        {
          "output_type": "display_data",
          "data": {
            "image/png": "[encoded data removed]",
            "text/plain": [
              "<Figure size 1440x288 with 3 Axes>"
            ]
          },
          "metadata": {
            "tags": []
          }
        }
      ]
    }
  ]
}