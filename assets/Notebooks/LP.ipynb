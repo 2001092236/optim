{
  "nbformat": 4,
  "nbformat_minor": 0,
  "metadata": {
    "colab": {
      "name": "CG.ipynb",
      "provenance": []
    },
    "kernelspec": {
      "display_name": "Python 3",
      "language": "python",
      "name": "python3"
    },
    "language_info": {
      "codemirror_mode": {
        "name": "ipython",
        "version": 3
      },
      "file_extension": ".py",
      "mimetype": "text/x-python",
      "name": "python",
      "nbconvert_exporter": "python",
      "pygments_lexer": "ipython3",
      "version": "3.7.4"
    },
    "toc": {
      "base_numbering": 1,
      "nav_menu": {},
      "number_sections": true,
      "sideBar": true,
      "skip_h1_title": false,
      "title_cell": "Table of Contents",
      "title_sidebar": "Contents",
      "toc_cell": false,
      "toc_position": {},
      "toc_section_display": true,
      "toc_window_display": false
    }
  },
  "cells": [
    {
      "cell_type": "markdown",
      "metadata": {
        "id": "KzV-C5Z1vk09"
      },
      "source": [
        "# Examples"
      ]
    },
    {
      "cell_type": "markdown",
      "metadata": {
        "id": "KA3vVfWHik8S"
      },
      "source": [
        "## 🧠 LP in scipy"
      ]
    },
    {
      "cell_type": "code",
      "metadata": {
        "id": "OGSja_vcik8S"
      },
      "source": [
        "from scipy.optimize import linprog"
      ],
      "execution_count": 1,
      "outputs": []
    },
    {
      "cell_type": "markdown",
      "metadata": {
        "id": "FR7DC9Xrik8T"
      },
      "source": [
        "$$\n",
        "\\begin{align*}\n",
        "&\\min_x c^{\\top}x \\\\\n",
        "\\text{s.t. } & Ax \\leq b\\\\\n",
        "x_2 \\geq -3, \\qquad &A = \\begin{pmatrix}\n",
        "    -3       & 1\\\\\n",
        "    1      & 2\n",
        "\\end{pmatrix} \\qquad b = \\begin{pmatrix} 6 \\\\ 4\\end{pmatrix}\n",
        "\\end{align*}\n",
        "$$"
      ]
    },
    {
      "cell_type": "code",
      "metadata": {
        "id": "Gafokm3Lik8T",
        "colab": {
          "base_uri": "https://localhost:8080/"
        },
        "outputId": "a6749a1f-8ca0-466e-8403-9bf59947f2fa"
      },
      "source": [
        "c = [-1, 4]\n",
        "A = [[-3, 1], [1, 2]]\n",
        "b = [6, 4]\n",
        "x0_bounds = (None, None)\n",
        "x1_bounds = (-3, None)\n",
        "from scipy.optimize import linprog\n",
        "res = linprog(c, A_ub=A, b_ub=b, bounds=(x0_bounds, x1_bounds),\n",
        "              options={\"disp\": True})\n",
        "\n",
        "print(res)"
      ],
      "execution_count": 2,
      "outputs": [
        {
          "output_type": "stream",
          "text": [
            "Primal Feasibility  Dual Feasibility    Duality Gap         Step             Path Parameter      Objective          \n",
            "1.0                 1.0                 1.0                 -                1.0                 -8.0                \n",
            "0.09885158404625    0.09885158404625    0.09885158404625    0.903461537018   0.09885158404625    -6.284698425658     \n",
            "0.05788429348353    0.05788429348355    0.05788429348355    0.4273037994111  0.05788429348355    -7.864724729573     \n",
            "0.04539867008243    0.04539867008244    0.04539867008244    0.2387091287399  0.04539867008244    -12.78916804766     \n",
            "0.00666151448168    0.006661514481681   0.006661514481682   0.8665142913493  0.006661514481682   -21.3520715063      \n",
            "6.299626472385e-06  6.299626472585e-06  6.299626472583e-06  1.0              6.299626472588e-06  -21.99681708159     \n",
            "3.150192408518e-10  3.150193669765e-10  3.150193217394e-10  0.9999499939647  3.150193297574e-10  -21.99999984082     \n",
            "Optimization terminated successfully.\n",
            "         Current function value: -22.000000  \n",
            "         Iterations: 6\n",
            "     con: array([], dtype=float64)\n",
            "     fun: -21.999999840824927\n",
            " message: 'Optimization terminated successfully.'\n",
            "     nit: 6\n",
            "   slack: array([3.89999997e+01, 8.46872599e-08])\n",
            "  status: 0\n",
            " success: True\n",
            "       x: array([ 9.99999989, -2.99999999])\n"
          ],
          "name": "stdout"
        },
        {
          "output_type": "stream",
          "text": [
            "/usr/local/lib/python3.7/dist-packages/numpy/core/fromnumeric.py:87: VisibleDeprecationWarning: Creating an ndarray from ragged nested sequences (which is a list-or-tuple of lists-or-tuples-or ndarrays with different lengths or shapes) is deprecated. If you meant to do this, you must specify 'dtype=object' when creating the ndarray\n",
            "  return ufunc.reduce(obj, axis, dtype, out, **passkwargs)\n"
          ],
          "name": "stderr"
        }
      ]
    },
    {
      "cell_type": "markdown",
      "metadata": {
        "id": "k3u9fHtvik8U"
      },
      "source": [
        "If you want to build tableaus quickly 😀"
      ]
    },
    {
      "cell_type": "code",
      "metadata": {
        "id": "rwCO6OPTik8U",
        "colab": {
          "base_uri": "https://localhost:8080/"
        },
        "outputId": "519e0856-d832-4c80-8cfa-35e25d6a1cac"
      },
      "source": [
        "import scipy\n",
        "\n",
        "c = [-1, 4]\n",
        "A = [[-3, 1], [1, 2]]\n",
        "b = [6, 4]\n",
        "x0_bounds = (None, None)\n",
        "x1_bounds = (-3, None)\n",
        "from scipy.optimize import linprog\n",
        "res = linprog(c, A_ub=A, b_ub=b, bounds=(x0_bounds, x1_bounds),\n",
        "              options={\"disp\": True}, callback=scipy.optimize.linprog_verbose_callback)"
      ],
      "execution_count": 3,
      "outputs": [
        {
          "output_type": "stream",
          "text": [
            "Primal Feasibility  Dual Feasibility    Duality Gap         Step             Path Parameter      Objective          \n",
            "1.0                 1.0                 1.0                 -                1.0                 -8.0                \n",
            "--------- Iteration 0  ---------\n",
            "\n",
            "0.09885158404625    0.09885158404625    0.09885158404625    0.903461537018   0.09885158404625    -6.284698425658     \n",
            "--------- Iteration 1  ---------\n",
            "\n",
            "Current Pseudo-Objective Value:\n",
            "f =  -6.284698425658357\n",
            "\n",
            "Current Solution Vector:\n",
            "x =  [     -0.1505      -1.6088]\n",
            "\n",
            "0.05788429348353    0.05788429348355    0.05788429348355    0.4273037994111  0.05788429348355    -7.864724729573     \n",
            "--------- Iteration 2  ---------\n",
            "\n",
            "Current Pseudo-Objective Value:\n",
            "f =  -7.864724729572676\n",
            "\n",
            "Current Solution Vector:\n",
            "x =  [      3.6474      -1.0543]\n",
            "\n",
            "0.04539867008243    0.04539867008244    0.04539867008244    0.2387091287399  0.04539867008244    -12.78916804766     \n",
            "--------- Iteration 3  ---------\n",
            "\n",
            "Current Pseudo-Objective Value:\n",
            "f =  -12.78916804765597\n",
            "\n",
            "Current Solution Vector:\n",
            "x =  [      0.7895      -2.9999]\n",
            "\n",
            "0.00666151448168    0.006661514481681   0.006661514481682   0.8665142913493  0.006661514481682   -21.3520715063      \n",
            "--------- Iteration 4  ---------\n",
            "\n",
            "Current Pseudo-Objective Value:\n",
            "f =  -21.352071506304092\n",
            "\n",
            "Current Solution Vector:\n",
            "x =  [      9.4022      -2.9875]\n",
            "\n",
            "6.299626472385e-06  6.299626472585e-06  6.299626472583e-06  1.0              6.299626472588e-06  -21.99681708159     \n",
            "--------- Iteration 5  ---------\n",
            "\n",
            "Current Pseudo-Objective Value:\n",
            "f =  -21.996817081588894\n",
            "\n",
            "Current Solution Vector:\n",
            "x =  [      9.9978      -2.9998]\n",
            "\n",
            "3.150192408518e-10  3.150193669765e-10  3.150193217394e-10  0.9999499939647  3.150193297574e-10  -21.99999984082     \n",
            "--------- Iteration 6  ---------\n",
            "\n",
            "Current Pseudo-Objective Value:\n",
            "f =  -21.999999840824927\n",
            "\n",
            "Current Solution Vector:\n",
            "x =  [     10.0000      -3.0000]\n",
            "\n",
            "Optimization terminated successfully.\n",
            "         Current function value: -22.000000  \n",
            "         Iterations: 6\n"
          ],
          "name": "stdout"
        },
        {
          "output_type": "stream",
          "text": [
            "/usr/local/lib/python3.7/dist-packages/numpy/core/fromnumeric.py:87: VisibleDeprecationWarning: Creating an ndarray from ragged nested sequences (which is a list-or-tuple of lists-or-tuples-or ndarrays with different lengths or shapes) is deprecated. If you meant to do this, you must specify 'dtype=object' when creating the ndarray\n",
            "  return ufunc.reduce(obj, axis, dtype, out, **passkwargs)\n"
          ],
          "name": "stderr"
        }
      ]
    },
    {
      "cell_type": "markdown",
      "metadata": {
        "id": "jj2_dLaaik8U"
      },
      "source": [
        "## 👨‍🔬 Klee, Minty example, when simplex works slow"
      ]
    },
    {
      "cell_type": "code",
      "metadata": {
        "id": "GrKuLNXYik8V"
      },
      "source": [
        "%matplotlib inline\n",
        "import numpy as np\n",
        "from matplotlib import pyplot as plt\n",
        "from scipy.optimize import linprog\n",
        "import seaborn as sns\n",
        "sns.set()\n",
        "\n",
        "def generate_KleeMinty_test_problem(n):\n",
        "    c = np.array([2**i for i in range(n)])\n",
        "    c = c[::-1]\n",
        "    bounds = [(0, None) for i in range(n)]\n",
        "    b = np.array([5**(i+1) for i in range(n)])\n",
        "    a = np.array([1] + [2**(i+1) for i in range(1, n)])\n",
        "    A = np.zeros((n, n))\n",
        "    for i in range(n):\n",
        "        A[i:, i] = a[:n-i]\n",
        "    return -c, A, b, bounds\n",
        "\n",
        "def generate_random_LP_problem(n):\n",
        "    c = np.random.rand(n)\n",
        "    A = np.random.rand(n,n)\n",
        "    b = np.random.rand(n)\n",
        "    bounds = []\n",
        "    for i in range(n):\n",
        "        bound = (-np.random.rand(1), np.random.rand(1))\n",
        "        bounds.append(bound)\n",
        "    return c, A, b, bounds"
      ],
      "execution_count": 4,
      "outputs": []
    },
    {
      "cell_type": "code",
      "metadata": {
        "id": "jACqzWGqik8V",
        "colab": {
          "base_uri": "https://localhost:8080/"
        },
        "outputId": "6d5176d4-5e4a-4af2-feb4-8f8bd285fbf0"
      },
      "source": [
        "n = 5\n",
        "c, A, b, bounds = generate_KleeMinty_test_problem(n)\n",
        "print(c)\n",
        "print(A) \n",
        "print(b)\n",
        "print(bounds)"
      ],
      "execution_count": 5,
      "outputs": [
        {
          "output_type": "stream",
          "text": [
            "[-16  -8  -4  -2  -1]\n",
            "[[ 1.  0.  0.  0.  0.]\n",
            " [ 4.  1.  0.  0.  0.]\n",
            " [ 8.  4.  1.  0.  0.]\n",
            " [16.  8.  4.  1.  0.]\n",
            " [32. 16.  8.  4.  1.]]\n",
            "[   5   25  125  625 3125]\n",
            "[(0, None), (0, None), (0, None), (0, None), (0, None)]\n"
          ],
          "name": "stdout"
        }
      ]
    },
    {
      "cell_type": "code",
      "metadata": {
        "id": "6xyzW7xeik8V",
        "colab": {
          "base_uri": "https://localhost:8080/",
          "height": 1000
        },
        "outputId": "a74ff4db-65bf-420f-d9ee-4f1d6a7d178e"
      },
      "source": [
        "n_list = range(2, 13)\n",
        "\n",
        "n_iters_km = np.zeros(len(n_list))\n",
        "times_km   = np.zeros(len(n_list))\n",
        "n_iters_r  = np.zeros(len(n_list))\n",
        "times_r    = np.zeros(len(n_list))\n",
        "\n",
        "for i, n in enumerate(n_list):\n",
        "    c, A, b, bounds = generate_KleeMinty_test_problem(n)\n",
        "    res = linprog(c, A, b, bounds=bounds, options={\"maxiter\": 2**max(n_list)})\n",
        "    time = %timeit -o -n 100 linprog(c, A, b, bounds=bounds, options={\"maxiter\": 2**max(n_list) + 1})\n",
        "    n_iters_km[i] = res.nit\n",
        "    times_km[i] = np.average(time.all_runs)\n",
        "\n",
        "    c, A, b, bounds = generate_random_LP_problem(n)\n",
        "    res = linprog(c, A, b, bounds=bounds, options={\"maxiter\": 2**max(n_list)})\n",
        "    time = %timeit -o -n 100 linprog(c, A, b, bounds=bounds, options={\"maxiter\": 2**max(n_list) + 1})\n",
        "    n_iters_r[i] = res.nit\n",
        "    times_r[i] = np.average(time.all_runs)\n",
        "\n",
        "plt.semilogy(n_list, times_r, label='random LP')\n",
        "plt.semilogy(n_list, times_km, label = 'Klee Minty')\n",
        "plt.legend()\n",
        "plt.xlabel(\"Dimension, $n$\")\n",
        "plt.ylabel(\"Average computation time on 100 runs\")\n",
        "plt.tight_layout()\n",
        "plt.savefig('LP_KM.svg')\n",
        "plt.show()"
      ],
      "execution_count": 6,
      "outputs": [
        {
          "output_type": "stream",
          "text": [
            "/usr/local/lib/python3.7/dist-packages/numpy/core/fromnumeric.py:87: VisibleDeprecationWarning: Creating an ndarray from ragged nested sequences (which is a list-or-tuple of lists-or-tuples-or ndarrays with different lengths or shapes) is deprecated. If you meant to do this, you must specify 'dtype=object' when creating the ndarray\n",
            "  return ufunc.reduce(obj, axis, dtype, out, **passkwargs)\n",
            "/usr/local/lib/python3.7/dist-packages/numpy/core/fromnumeric.py:87: VisibleDeprecationWarning: Creating an ndarray from ragged nested sequences (which is a list-or-tuple of lists-or-tuples-or ndarrays with different lengths or shapes) is deprecated. If you meant to do this, you must specify 'dtype=object' when creating the ndarray\n",
            "  return ufunc.reduce(obj, axis, dtype, out, **passkwargs)\n"
          ],
          "name": "stderr"
        },
        {
          "output_type": "stream",
          "text": [
            "100 loops, best of 5: 3.94 ms per loop\n"
          ],
          "name": "stdout"
        },
        {
          "output_type": "stream",
          "text": [
            "/usr/local/lib/python3.7/dist-packages/numpy/core/fromnumeric.py:87: VisibleDeprecationWarning: Creating an ndarray from ragged nested sequences (which is a list-or-tuple of lists-or-tuples-or ndarrays with different lengths or shapes) is deprecated. If you meant to do this, you must specify 'dtype=object' when creating the ndarray\n",
            "  return ufunc.reduce(obj, axis, dtype, out, **passkwargs)\n"
          ],
          "name": "stderr"
        },
        {
          "output_type": "stream",
          "text": [
            "100 loops, best of 5: 3.23 ms per loop\n"
          ],
          "name": "stdout"
        },
        {
          "output_type": "stream",
          "text": [
            "/usr/local/lib/python3.7/dist-packages/numpy/core/fromnumeric.py:87: VisibleDeprecationWarning: Creating an ndarray from ragged nested sequences (which is a list-or-tuple of lists-or-tuples-or ndarrays with different lengths or shapes) is deprecated. If you meant to do this, you must specify 'dtype=object' when creating the ndarray\n",
            "  return ufunc.reduce(obj, axis, dtype, out, **passkwargs)\n"
          ],
          "name": "stderr"
        },
        {
          "output_type": "stream",
          "text": [
            "100 loops, best of 5: 4.46 ms per loop\n"
          ],
          "name": "stdout"
        },
        {
          "output_type": "stream",
          "text": [
            "/usr/local/lib/python3.7/dist-packages/numpy/core/fromnumeric.py:87: VisibleDeprecationWarning: Creating an ndarray from ragged nested sequences (which is a list-or-tuple of lists-or-tuples-or ndarrays with different lengths or shapes) is deprecated. If you meant to do this, you must specify 'dtype=object' when creating the ndarray\n",
            "  return ufunc.reduce(obj, axis, dtype, out, **passkwargs)\n"
          ],
          "name": "stderr"
        },
        {
          "output_type": "stream",
          "text": [
            "100 loops, best of 5: 3.9 ms per loop\n"
          ],
          "name": "stdout"
        },
        {
          "output_type": "stream",
          "text": [
            "/usr/local/lib/python3.7/dist-packages/numpy/core/fromnumeric.py:87: VisibleDeprecationWarning: Creating an ndarray from ragged nested sequences (which is a list-or-tuple of lists-or-tuples-or ndarrays with different lengths or shapes) is deprecated. If you meant to do this, you must specify 'dtype=object' when creating the ndarray\n",
            "  return ufunc.reduce(obj, axis, dtype, out, **passkwargs)\n"
          ],
          "name": "stderr"
        },
        {
          "output_type": "stream",
          "text": [
            "100 loops, best of 5: 5.15 ms per loop\n"
          ],
          "name": "stdout"
        },
        {
          "output_type": "stream",
          "text": [
            "/usr/local/lib/python3.7/dist-packages/numpy/core/fromnumeric.py:87: VisibleDeprecationWarning: Creating an ndarray from ragged nested sequences (which is a list-or-tuple of lists-or-tuples-or ndarrays with different lengths or shapes) is deprecated. If you meant to do this, you must specify 'dtype=object' when creating the ndarray\n",
            "  return ufunc.reduce(obj, axis, dtype, out, **passkwargs)\n"
          ],
          "name": "stderr"
        },
        {
          "output_type": "stream",
          "text": [
            "100 loops, best of 5: 4.29 ms per loop\n"
          ],
          "name": "stdout"
        },
        {
          "output_type": "stream",
          "text": [
            "/usr/local/lib/python3.7/dist-packages/numpy/core/fromnumeric.py:87: VisibleDeprecationWarning: Creating an ndarray from ragged nested sequences (which is a list-or-tuple of lists-or-tuples-or ndarrays with different lengths or shapes) is deprecated. If you meant to do this, you must specify 'dtype=object' when creating the ndarray\n",
            "  return ufunc.reduce(obj, axis, dtype, out, **passkwargs)\n"
          ],
          "name": "stderr"
        },
        {
          "output_type": "stream",
          "text": [
            "100 loops, best of 5: 5.97 ms per loop\n"
          ],
          "name": "stdout"
        },
        {
          "output_type": "stream",
          "text": [
            "/usr/local/lib/python3.7/dist-packages/numpy/core/fromnumeric.py:87: VisibleDeprecationWarning: Creating an ndarray from ragged nested sequences (which is a list-or-tuple of lists-or-tuples-or ndarrays with different lengths or shapes) is deprecated. If you meant to do this, you must specify 'dtype=object' when creating the ndarray\n",
            "  return ufunc.reduce(obj, axis, dtype, out, **passkwargs)\n"
          ],
          "name": "stderr"
        },
        {
          "output_type": "stream",
          "text": [
            "100 loops, best of 5: 4.41 ms per loop\n"
          ],
          "name": "stdout"
        },
        {
          "output_type": "stream",
          "text": [
            "/usr/local/lib/python3.7/dist-packages/numpy/core/fromnumeric.py:87: VisibleDeprecationWarning: Creating an ndarray from ragged nested sequences (which is a list-or-tuple of lists-or-tuples-or ndarrays with different lengths or shapes) is deprecated. If you meant to do this, you must specify 'dtype=object' when creating the ndarray\n",
            "  return ufunc.reduce(obj, axis, dtype, out, **passkwargs)\n"
          ],
          "name": "stderr"
        },
        {
          "output_type": "stream",
          "text": [
            "100 loops, best of 5: 8.65 ms per loop\n"
          ],
          "name": "stdout"
        },
        {
          "output_type": "stream",
          "text": [
            "/usr/local/lib/python3.7/dist-packages/numpy/core/fromnumeric.py:87: VisibleDeprecationWarning: Creating an ndarray from ragged nested sequences (which is a list-or-tuple of lists-or-tuples-or ndarrays with different lengths or shapes) is deprecated. If you meant to do this, you must specify 'dtype=object' when creating the ndarray\n",
            "  return ufunc.reduce(obj, axis, dtype, out, **passkwargs)\n"
          ],
          "name": "stderr"
        },
        {
          "output_type": "stream",
          "text": [
            "100 loops, best of 5: 4.5 ms per loop\n"
          ],
          "name": "stdout"
        },
        {
          "output_type": "stream",
          "text": [
            "/usr/local/lib/python3.7/dist-packages/numpy/core/fromnumeric.py:87: VisibleDeprecationWarning: Creating an ndarray from ragged nested sequences (which is a list-or-tuple of lists-or-tuples-or ndarrays with different lengths or shapes) is deprecated. If you meant to do this, you must specify 'dtype=object' when creating the ndarray\n",
            "  return ufunc.reduce(obj, axis, dtype, out, **passkwargs)\n"
          ],
          "name": "stderr"
        },
        {
          "output_type": "stream",
          "text": [
            "100 loops, best of 5: 10 ms per loop\n"
          ],
          "name": "stdout"
        },
        {
          "output_type": "stream",
          "text": [
            "/usr/local/lib/python3.7/dist-packages/numpy/core/fromnumeric.py:87: VisibleDeprecationWarning: Creating an ndarray from ragged nested sequences (which is a list-or-tuple of lists-or-tuples-or ndarrays with different lengths or shapes) is deprecated. If you meant to do this, you must specify 'dtype=object' when creating the ndarray\n",
            "  return ufunc.reduce(obj, axis, dtype, out, **passkwargs)\n"
          ],
          "name": "stderr"
        },
        {
          "output_type": "stream",
          "text": [
            "100 loops, best of 5: 4.59 ms per loop\n"
          ],
          "name": "stdout"
        },
        {
          "output_type": "stream",
          "text": [
            "/usr/local/lib/python3.7/dist-packages/numpy/core/fromnumeric.py:87: VisibleDeprecationWarning: Creating an ndarray from ragged nested sequences (which is a list-or-tuple of lists-or-tuples-or ndarrays with different lengths or shapes) is deprecated. If you meant to do this, you must specify 'dtype=object' when creating the ndarray\n",
            "  return ufunc.reduce(obj, axis, dtype, out, **passkwargs)\n"
          ],
          "name": "stderr"
        },
        {
          "output_type": "stream",
          "text": [
            "100 loops, best of 5: 10.7 ms per loop\n"
          ],
          "name": "stdout"
        },
        {
          "output_type": "stream",
          "text": [
            "/usr/local/lib/python3.7/dist-packages/numpy/core/fromnumeric.py:87: VisibleDeprecationWarning: Creating an ndarray from ragged nested sequences (which is a list-or-tuple of lists-or-tuples-or ndarrays with different lengths or shapes) is deprecated. If you meant to do this, you must specify 'dtype=object' when creating the ndarray\n",
            "  return ufunc.reduce(obj, axis, dtype, out, **passkwargs)\n"
          ],
          "name": "stderr"
        },
        {
          "output_type": "stream",
          "text": [
            "100 loops, best of 5: 5.3 ms per loop\n"
          ],
          "name": "stdout"
        },
        {
          "output_type": "stream",
          "text": [
            "/usr/local/lib/python3.7/dist-packages/numpy/core/fromnumeric.py:87: VisibleDeprecationWarning: Creating an ndarray from ragged nested sequences (which is a list-or-tuple of lists-or-tuples-or ndarrays with different lengths or shapes) is deprecated. If you meant to do this, you must specify 'dtype=object' when creating the ndarray\n",
            "  return ufunc.reduce(obj, axis, dtype, out, **passkwargs)\n"
          ],
          "name": "stderr"
        },
        {
          "output_type": "stream",
          "text": [
            "100 loops, best of 5: 12.5 ms per loop\n"
          ],
          "name": "stdout"
        },
        {
          "output_type": "stream",
          "text": [
            "/usr/local/lib/python3.7/dist-packages/numpy/core/fromnumeric.py:87: VisibleDeprecationWarning: Creating an ndarray from ragged nested sequences (which is a list-or-tuple of lists-or-tuples-or ndarrays with different lengths or shapes) is deprecated. If you meant to do this, you must specify 'dtype=object' when creating the ndarray\n",
            "  return ufunc.reduce(obj, axis, dtype, out, **passkwargs)\n"
          ],
          "name": "stderr"
        },
        {
          "output_type": "stream",
          "text": [
            "100 loops, best of 5: 4.8 ms per loop\n"
          ],
          "name": "stdout"
        },
        {
          "output_type": "stream",
          "text": [
            "/usr/local/lib/python3.7/dist-packages/numpy/core/fromnumeric.py:87: VisibleDeprecationWarning: Creating an ndarray from ragged nested sequences (which is a list-or-tuple of lists-or-tuples-or ndarrays with different lengths or shapes) is deprecated. If you meant to do this, you must specify 'dtype=object' when creating the ndarray\n",
            "  return ufunc.reduce(obj, axis, dtype, out, **passkwargs)\n"
          ],
          "name": "stderr"
        },
        {
          "output_type": "stream",
          "text": [
            "100 loops, best of 5: 14 ms per loop\n"
          ],
          "name": "stdout"
        },
        {
          "output_type": "stream",
          "text": [
            "/usr/local/lib/python3.7/dist-packages/numpy/core/fromnumeric.py:87: VisibleDeprecationWarning: Creating an ndarray from ragged nested sequences (which is a list-or-tuple of lists-or-tuples-or ndarrays with different lengths or shapes) is deprecated. If you meant to do this, you must specify 'dtype=object' when creating the ndarray\n",
            "  return ufunc.reduce(obj, axis, dtype, out, **passkwargs)\n"
          ],
          "name": "stderr"
        },
        {
          "output_type": "stream",
          "text": [
            "100 loops, best of 5: 6.16 ms per loop\n"
          ],
          "name": "stdout"
        },
        {
          "output_type": "stream",
          "text": [
            "/usr/local/lib/python3.7/dist-packages/numpy/core/fromnumeric.py:87: VisibleDeprecationWarning: Creating an ndarray from ragged nested sequences (which is a list-or-tuple of lists-or-tuples-or ndarrays with different lengths or shapes) is deprecated. If you meant to do this, you must specify 'dtype=object' when creating the ndarray\n",
            "  return ufunc.reduce(obj, axis, dtype, out, **passkwargs)\n"
          ],
          "name": "stderr"
        },
        {
          "output_type": "stream",
          "text": [
            "100 loops, best of 5: 14 ms per loop\n"
          ],
          "name": "stdout"
        },
        {
          "output_type": "stream",
          "text": [
            "/usr/local/lib/python3.7/dist-packages/numpy/core/fromnumeric.py:87: VisibleDeprecationWarning: Creating an ndarray from ragged nested sequences (which is a list-or-tuple of lists-or-tuples-or ndarrays with different lengths or shapes) is deprecated. If you meant to do this, you must specify 'dtype=object' when creating the ndarray\n",
            "  return ufunc.reduce(obj, axis, dtype, out, **passkwargs)\n"
          ],
          "name": "stderr"
        },
        {
          "output_type": "stream",
          "text": [
            "100 loops, best of 5: 5.31 ms per loop\n"
          ],
          "name": "stdout"
        },
        {
          "output_type": "stream",
          "text": [
            "/usr/local/lib/python3.7/dist-packages/numpy/core/fromnumeric.py:87: VisibleDeprecationWarning: Creating an ndarray from ragged nested sequences (which is a list-or-tuple of lists-or-tuples-or ndarrays with different lengths or shapes) is deprecated. If you meant to do this, you must specify 'dtype=object' when creating the ndarray\n",
            "  return ufunc.reduce(obj, axis, dtype, out, **passkwargs)\n"
          ],
          "name": "stderr"
        },
        {
          "output_type": "stream",
          "text": [
            "100 loops, best of 5: 15.4 ms per loop\n"
          ],
          "name": "stdout"
        },
        {
          "output_type": "stream",
          "text": [
            "/usr/local/lib/python3.7/dist-packages/numpy/core/fromnumeric.py:87: VisibleDeprecationWarning: Creating an ndarray from ragged nested sequences (which is a list-or-tuple of lists-or-tuples-or ndarrays with different lengths or shapes) is deprecated. If you meant to do this, you must specify 'dtype=object' when creating the ndarray\n",
            "  return ufunc.reduce(obj, axis, dtype, out, **passkwargs)\n"
          ],
          "name": "stderr"
        },
        {
          "output_type": "stream",
          "text": [
            "100 loops, best of 5: 6.96 ms per loop\n"
          ],
          "name": "stdout"
        },
        {
          "output_type": "display_data",
          "data": {
            "image/png": "[encoded data removed]",
            "text/plain": [
              "<Figure size 432x288 with 1 Axes>"
            ]
          },
          "metadata": {
            "tags": []
          }
        }
      ]
    },
    {
      "cell_type": "markdown",
      "metadata": {
        "id": "qJ7tb91mik8W"
      },
      "source": [
        "## 📼 PuLP library example (Optimal watching TED talks)"
      ]
    },
    {
      "cell_type": "code",
      "metadata": {
        "id": "-AW_zM5Aik8W",
        "colab": {
          "base_uri": "https://localhost:8080/"
        },
        "outputId": "21f850a3-ae12-4994-d5b8-5dbabccc8686"
      },
      "source": [
        "!pip install pulp"
      ],
      "execution_count": 7,
      "outputs": [
        {
          "output_type": "stream",
          "text": [
            "Collecting pulp\n",
            "\u001b[?25l  Downloading https://files.pythonhosted.org/packages/14/c4/0eec14a0123209c261de6ff154ef3be5cad3fd557c084f468356662e0585/PuLP-2.4-py3-none-any.whl (40.6MB)\n",
            "\u001b[K     |████████████████████████████████| 40.6MB 89kB/s \n",
            "\u001b[?25hCollecting amply>=0.1.2\n",
            "  Downloading https://files.pythonhosted.org/packages/f3/c5/dfa09dd2595a2ab2ab4e6fa7bebef9565812722e1980d04b0edce5032066/amply-0.1.4-py3-none-any.whl\n",
            "Requirement already satisfied: docutils>=0.3 in /usr/local/lib/python3.7/dist-packages (from amply>=0.1.2->pulp) (0.16)\n",
            "Requirement already satisfied: pyparsing in /usr/local/lib/python3.7/dist-packages (from amply>=0.1.2->pulp) (2.4.7)\n",
            "Installing collected packages: amply, pulp\n",
            "Successfully installed amply-0.1.4 pulp-2.4\n"
          ],
          "name": "stdout"
        }
      ]
    },
    {
      "cell_type": "code",
      "metadata": {
        "id": "UYZuVjXAik8W"
      },
      "source": [
        "%matplotlib inline\n",
        " \n",
        "import pulp\n",
        "import numpy as np\n",
        "import pandas as pd\n",
        "import re\n",
        "import matplotlib.pyplot as plt\n",
        "from IPython.display import Image"
      ],
      "execution_count": 8,
      "outputs": []
    },
    {
      "cell_type": "code",
      "metadata": {
        "id": "z5ITwq_tik8X",
        "colab": {
          "base_uri": "https://localhost:8080/",
          "height": 598
        },
        "outputId": "3755a72a-9289-4870-9f48-813f1fc3cd7d"
      },
      "source": [
        "# Download the dataset from https://www.kaggle.com/rounakbanik/ted-talks\n",
        "\n",
        "# Read the dataset into pandas dataframe, convert duration from seconds to minutes\n",
        "ted = pd.read_csv('https://raw.githubusercontent.com/MerkulovDaniil/optim/master/assets/Notebooks/ted_main.csv', encoding='ISO-8859-1')\n",
        "ted['duration'] = ted['duration'] / 60\n",
        "ted = ted.round({'duration': 1})\n",
        "\n",
        "# Select subset of columns & rows (if required)\n",
        "# data = ted.sample(n=1000) # 'n' can be changed as required\n",
        "data = ted\n",
        "selected_cols = ['name', 'event', 'duration', 'views']\n",
        "data.reset_index(inplace=True)\n",
        "data.head()"
      ],
      "execution_count": 9,
      "outputs": [
        {
          "output_type": "execute_result",
          "data": {
            "text/html": [
              "<div>\n",
              "<style scoped>\n",
              "    .dataframe tbody tr th:only-of-type {\n",
              "        vertical-align: middle;\n",
              "    }\n",
              "\n",
              "    .dataframe tbody tr th {\n",
              "        vertical-align: top;\n",
              "    }\n",
              "\n",
              "    .dataframe thead th {\n",
              "        text-align: right;\n",
              "    }\n",
              "</style>\n",
              "<table border=\"1\" class=\"dataframe\">\n",
              "  <thead>\n",
              "    <tr style=\"text-align: right;\">\n",
              "      <th></th>\n",
              "      <th>index</th>\n",
              "      <th>comments</th>\n",
              "      <th>description</th>\n",
              "      <th>duration</th>\n",
              "      <th>event</th>\n",
              "      <th>film_date</th>\n",
              "      <th>languages</th>\n",
              "      <th>main_speaker</th>\n",
              "      <th>name</th>\n",
              "      <th>num_speaker</th>\n",
              "      <th>published_date</th>\n",
              "      <th>ratings</th>\n",
              "      <th>related_talks</th>\n",
              "      <th>speaker_occupation</th>\n",
              "      <th>tags</th>\n",
              "      <th>title</th>\n",
              "      <th>url</th>\n",
              "      <th>views</th>\n",
              "    </tr>\n",
              "  </thead>\n",
              "  <tbody>\n",
              "    <tr>\n",
              "      <th>0</th>\n",
              "      <td>0</td>\n",
              "      <td>4553</td>\n",
              "      <td>Sir Ken Robinson makes an entertaining and pro...</td>\n",
              "      <td>19.4</td>\n",
              "      <td>TED2006</td>\n",
              "      <td>1140825600</td>\n",
              "      <td>60</td>\n",
              "      <td>Ken Robinson</td>\n",
              "      <td>Ken Robinson: Do schools kill creativity?</td>\n",
              "      <td>1</td>\n",
              "      <td>1151367060</td>\n",
              "      <td>[{'id': 7, 'name': 'Funny', 'count': 19645}, {...</td>\n",
              "      <td>[{'id': 865, 'hero': 'https://pe.tedcdn.com/im...</td>\n",
              "      <td>Author/educator</td>\n",
              "      <td>['children', 'creativity', 'culture', 'dance',...</td>\n",
              "      <td>Do schools kill creativity?</td>\n",
              "      <td>https://www.ted.com/talks/ken_robinson_says_sc...</td>\n",
              "      <td>47227110</td>\n",
              "    </tr>\n",
              "    <tr>\n",
              "      <th>1</th>\n",
              "      <td>1</td>\n",
              "      <td>265</td>\n",
              "      <td>With the same humor and humanity he exuded in ...</td>\n",
              "      <td>16.3</td>\n",
              "      <td>TED2006</td>\n",
              "      <td>1140825600</td>\n",
              "      <td>43</td>\n",
              "      <td>Al Gore</td>\n",
              "      <td>Al Gore: Averting the climate crisis</td>\n",
              "      <td>1</td>\n",
              "      <td>1151367060</td>\n",
              "      <td>[{'id': 7, 'name': 'Funny', 'count': 544}, {'i...</td>\n",
              "      <td>[{'id': 243, 'hero': 'https://pe.tedcdn.com/im...</td>\n",
              "      <td>Climate advocate</td>\n",
              "      <td>['alternative energy', 'cars', 'climate change...</td>\n",
              "      <td>Averting the climate crisis</td>\n",
              "      <td>https://www.ted.com/talks/al_gore_on_averting_...</td>\n",
              "      <td>3200520</td>\n",
              "    </tr>\n",
              "    <tr>\n",
              "      <th>2</th>\n",
              "      <td>2</td>\n",
              "      <td>124</td>\n",
              "      <td>New York Times columnist David Pogue takes aim...</td>\n",
              "      <td>21.4</td>\n",
              "      <td>TED2006</td>\n",
              "      <td>1140739200</td>\n",
              "      <td>26</td>\n",
              "      <td>David Pogue</td>\n",
              "      <td>David Pogue: Simplicity sells</td>\n",
              "      <td>1</td>\n",
              "      <td>1151367060</td>\n",
              "      <td>[{'id': 7, 'name': 'Funny', 'count': 964}, {'i...</td>\n",
              "      <td>[{'id': 1725, 'hero': 'https://pe.tedcdn.com/i...</td>\n",
              "      <td>Technology columnist</td>\n",
              "      <td>['computers', 'entertainment', 'interface desi...</td>\n",
              "      <td>Simplicity sells</td>\n",
              "      <td>https://www.ted.com/talks/david_pogue_says_sim...</td>\n",
              "      <td>1636292</td>\n",
              "    </tr>\n",
              "    <tr>\n",
              "      <th>3</th>\n",
              "      <td>3</td>\n",
              "      <td>200</td>\n",
              "      <td>In an emotionally charged talk, MacArthur-winn...</td>\n",
              "      <td>18.6</td>\n",
              "      <td>TED2006</td>\n",
              "      <td>1140912000</td>\n",
              "      <td>35</td>\n",
              "      <td>Majora Carter</td>\n",
              "      <td>Majora Carter: Greening the ghetto</td>\n",
              "      <td>1</td>\n",
              "      <td>1151367060</td>\n",
              "      <td>[{'id': 3, 'name': 'Courageous', 'count': 760}...</td>\n",
              "      <td>[{'id': 1041, 'hero': 'https://pe.tedcdn.com/i...</td>\n",
              "      <td>Activist for environmental justice</td>\n",
              "      <td>['MacArthur grant', 'activism', 'business', 'c...</td>\n",
              "      <td>Greening the ghetto</td>\n",
              "      <td>https://www.ted.com/talks/majora_carter_s_tale...</td>\n",
              "      <td>1697550</td>\n",
              "    </tr>\n",
              "    <tr>\n",
              "      <th>4</th>\n",
              "      <td>4</td>\n",
              "      <td>593</td>\n",
              "      <td>You've never seen data presented like this. Wi...</td>\n",
              "      <td>19.8</td>\n",
              "      <td>TED2006</td>\n",
              "      <td>1140566400</td>\n",
              "      <td>48</td>\n",
              "      <td>Hans Rosling</td>\n",
              "      <td>Hans Rosling: The best stats you've ever seen</td>\n",
              "      <td>1</td>\n",
              "      <td>1151440680</td>\n",
              "      <td>[{'id': 9, 'name': 'Ingenious', 'count': 3202}...</td>\n",
              "      <td>[{'id': 2056, 'hero': 'https://pe.tedcdn.com/i...</td>\n",
              "      <td>Global health expert; data visionary</td>\n",
              "      <td>['Africa', 'Asia', 'Google', 'demo', 'economic...</td>\n",
              "      <td>The best stats you've ever seen</td>\n",
              "      <td>https://www.ted.com/talks/hans_rosling_shows_t...</td>\n",
              "      <td>12005869</td>\n",
              "    </tr>\n",
              "  </tbody>\n",
              "</table>\n",
              "</div>"
            ],
            "text/plain": [
              "   index  comments  ...                                                url     views\n",
              "0      0      4553  ...  https://www.ted.com/talks/ken_robinson_says_sc...  47227110\n",
              "1      1       265  ...  https://www.ted.com/talks/al_gore_on_averting_...   3200520\n",
              "2      2       124  ...  https://www.ted.com/talks/david_pogue_says_sim...   1636292\n",
              "3      3       200  ...  https://www.ted.com/talks/majora_carter_s_tale...   1697550\n",
              "4      4       593  ...  https://www.ted.com/talks/hans_rosling_shows_t...  12005869\n",
              "\n",
              "[5 rows x 18 columns]"
            ]
          },
          "metadata": {
            "tags": []
          },
          "execution_count": 9
        }
      ]
    },
    {
      "cell_type": "code",
      "metadata": {
        "id": "mxCEz8tQik8X"
      },
      "source": [
        "# create LP object,\n",
        "# set up as a maximization problem --> since we want to maximize the number of TED talks to watch\n",
        "prob = pulp.LpProblem('WatchingTEDTalks', pulp.LpMaximize)"
      ],
      "execution_count": 10,
      "outputs": []
    },
    {
      "cell_type": "code",
      "metadata": {
        "id": "BPvS-ZQcik8X",
        "colab": {
          "base_uri": "https://localhost:8080/"
        },
        "outputId": "74ba14aa-7a67-44aa-8948-527698e1631d"
      },
      "source": [
        "# create decision - yes or no to watch the talk?\n",
        "decision_variables = []\n",
        "for rownum, row in data.iterrows():\n",
        "    variable = str('x' + str(row['index']))\n",
        "    variable = pulp.LpVariable(str(variable), lowBound = 0, upBound = 1) # make variable binary\n",
        "    decision_variables.append(variable)\n",
        "    \n",
        "print('Total number of decision variables: ' + str(len(decision_variables)))"
      ],
      "execution_count": 11,
      "outputs": [
        {
          "output_type": "stream",
          "text": [
            "Total number of decision variables: 2550\n"
          ],
          "name": "stdout"
        }
      ]
    },
    {
      "cell_type": "code",
      "metadata": {
        "id": "BraIJ7H9ik8Y"
      },
      "source": [
        "# Create optimization Function\n",
        "total_views = ''\n",
        "for rownum, row in data.iterrows():\n",
        "    for i,talk in enumerate(decision_variables):\n",
        "        if rownum == i:\n",
        "            formula = (len(row['description']) + (-1)*row['views']) * talk\n",
        "            total_views += formula\n",
        "            \n",
        "prob += total_views\n",
        "# print('Optimization function: ' + str(total_views))"
      ],
      "execution_count": 12,
      "outputs": []
    },
    {
      "cell_type": "code",
      "metadata": {
        "id": "tvUTUhyIik8Y"
      },
      "source": [
        "# Contraints\n",
        "total_time_available_for_talks = 3*60 # Total time available is 5 hours . Converted to minutes\n",
        "total_talks_can_watch = 8 # Don't want an overload information"
      ],
      "execution_count": 13,
      "outputs": []
    },
    {
      "cell_type": "code",
      "metadata": {
        "id": "ktrQFPNqik8Y"
      },
      "source": [
        "# Create Constraint 1 - Time for talks\n",
        "total_time_talks = ''\n",
        "for rownum, row in data.iterrows():\n",
        "    for i,  talk in enumerate(decision_variables):\n",
        "        if rownum == i:\n",
        "            formula = row['duration']*talk\n",
        "            total_time_talks += formula\n",
        "            \n",
        "prob += (total_time_talks <= total_time_available_for_talks)"
      ],
      "execution_count": 14,
      "outputs": []
    },
    {
      "cell_type": "code",
      "metadata": {
        "id": "FAJTAJuzik8Y"
      },
      "source": [
        "# Create Constraint 2 - Number of talks\n",
        "total_talks = ''\n",
        "\n",
        "for rownum, row in data.iterrows():\n",
        "    for i, talk in enumerate(decision_variables):\n",
        "        if rownum == i:\n",
        "            formula = talk\n",
        "            total_talks += formula\n",
        "            \n",
        "prob += (total_talks == total_talks_can_watch)"
      ],
      "execution_count": 15,
      "outputs": []
    },
    {
      "cell_type": "code",
      "metadata": {
        "id": "mXzW4NPHik8Z",
        "colab": {
          "base_uri": "https://localhost:8080/"
        },
        "outputId": "e49a787a-9074-4685-b2e6-6f5de2660231"
      },
      "source": [
        "# Be careful, the output will be huge\n",
        "# print(prob)\n",
        "prob.writeLP('WatchingTEDTalks.lp')\n",
        "print('🤔 The problem has successfully formulated')"
      ],
      "execution_count": 16,
      "outputs": [
        {
          "output_type": "stream",
          "text": [
            "🤔 The problem has successfully formulated\n"
          ],
          "name": "stdout"
        }
      ]
    },
    {
      "cell_type": "code",
      "metadata": {
        "id": "DxWYk01Hik8Z",
        "colab": {
          "base_uri": "https://localhost:8080/"
        },
        "outputId": "0ebf4fe5-58e6-4f1f-88e8-5f2db2d227c4"
      },
      "source": [
        "optimization_result = prob.solve()\n",
        "\n",
        "assert optimization_result == pulp.LpStatusOptimal\n",
        "print('Status:', pulp.LpStatus[prob.status])\n",
        "print('Optimal Solution to the problem: ', pulp.value(prob.objective))\n",
        "print('Individual decision variables: ')\n",
        "\n",
        "\n",
        "for v in prob.variables():\n",
        "    if v.varValue > 0:\n",
        "        print(v.name, '=', v.varValue)"
      ],
      "execution_count": 17,
      "outputs": [
        {
          "output_type": "stream",
          "text": [
            "Status: Optimal\n",
            "Optimal Solution to the problem:  -784644.0\n",
            "Individual decision variables: \n",
            "x1079 = 1.0\n",
            "x1112 = 1.0\n",
            "x1133 = 1.0\n",
            "x1141 = 1.0\n",
            "x1229 = 1.0\n",
            "x237 = 1.0\n",
            "x594 = 1.0\n",
            "x776 = 1.0\n"
          ],
          "name": "stdout"
        }
      ]
    },
    {
      "cell_type": "code",
      "metadata": {
        "id": "bM5K6Sbkik8Z"
      },
      "source": [
        "# reorder results\n",
        "variable_name = []\n",
        "variable_value = []\n",
        "\n",
        "for v in prob.variables():\n",
        "    variable_name.append(v.name)\n",
        "    variable_value.append(v.varValue)\n",
        "    \n",
        "df = pd.DataFrame({'index': variable_name, 'value': variable_value})\n",
        "for rownum, row in df.iterrows():\n",
        "    value = re.findall(r'(\\d+)', row['index'])\n",
        "    df.loc[rownum, 'index'] = int(value[0])\n",
        "    \n",
        "# df = df.sort_index(by = 'index')\n",
        "df = df.sort_values(by = 'index')\n",
        "result = pd.merge(data, df, on = 'index')\n",
        "result = result[result['value'] == 1].sort_values(by = 'views', ascending = False)\n",
        "selected_cols_final = ['name', 'event', 'duration', 'views']\n",
        "final_set_of_talks_to_watch = result[selected_cols_final]"
      ],
      "execution_count": 18,
      "outputs": []
    },
    {
      "cell_type": "code",
      "metadata": {
        "id": "ft759ilYik8a",
        "colab": {
          "base_uri": "https://localhost:8080/",
          "height": 297
        },
        "outputId": "f3f1d276-df8b-43ca-ddf7-a6e9ddddcfa9"
      },
      "source": [
        "from IPython.display import display, HTML\n",
        "display(HTML(final_set_of_talks_to_watch.to_html(index=False)))"
      ],
      "execution_count": 19,
      "outputs": [
        {
          "output_type": "display_data",
          "data": {
            "text/html": [
              "<table border=\"1\" class=\"dataframe\">\n",
              "  <thead>\n",
              "    <tr style=\"text-align: right;\">\n",
              "      <th>name</th>\n",
              "      <th>event</th>\n",
              "      <th>duration</th>\n",
              "      <th>views</th>\n",
              "    </tr>\n",
              "  </thead>\n",
              "  <tbody>\n",
              "    <tr>\n",
              "      <td>Leslie Dodson: Don't misrepresent Africa</td>\n",
              "      <td>TEDxBoulder 2011</td>\n",
              "      <td>11.4</td>\n",
              "      <td>121186</td>\n",
              "    </tr>\n",
              "    <tr>\n",
              "      <td>Keith Nolan: Deaf in the military</td>\n",
              "      <td>TEDxIslay</td>\n",
              "      <td>18.6</td>\n",
              "      <td>120274</td>\n",
              "    </tr>\n",
              "    <tr>\n",
              "      <td>JosÃ© Bowen: Beethoven the businessman</td>\n",
              "      <td>TEDxSMU</td>\n",
              "      <td>12.8</td>\n",
              "      <td>117756</td>\n",
              "    </tr>\n",
              "    <tr>\n",
              "      <td>Aleph Molinari: Let's bridge the digital divide!</td>\n",
              "      <td>TEDxSanMigueldeAllende</td>\n",
              "      <td>9.9</td>\n",
              "      <td>115346</td>\n",
              "    </tr>\n",
              "    <tr>\n",
              "      <td>Tim Birkhead: The early birdwatchers</td>\n",
              "      <td>The Do Lectures</td>\n",
              "      <td>28.2</td>\n",
              "      <td>112321</td>\n",
              "    </tr>\n",
              "    <tr>\n",
              "      <td>Rokia Traore: \"Kounandi\"</td>\n",
              "      <td>TEDGlobal 2007</td>\n",
              "      <td>6.4</td>\n",
              "      <td>82488</td>\n",
              "    </tr>\n",
              "    <tr>\n",
              "      <td>Charles Hazlewood + British Paraorchestra: The debut of the British Paraorchestra</td>\n",
              "      <td>TEDxBrussels</td>\n",
              "      <td>13.6</td>\n",
              "      <td>66668</td>\n",
              "    </tr>\n",
              "    <tr>\n",
              "      <td>Edwidge Danticat: Stories of Haiti</td>\n",
              "      <td>University of California</td>\n",
              "      <td>59.6</td>\n",
              "      <td>50443</td>\n",
              "    </tr>\n",
              "  </tbody>\n",
              "</table>"
            ],
            "text/plain": [
              "<IPython.core.display.HTML object>"
            ]
          },
          "metadata": {
            "tags": []
          }
        }
      ]
    },
    {
      "cell_type": "markdown",
      "metadata": {
        "id": "UBjSzMx8t6Q8"
      },
      "source": [
        "## 🌮 Diet problem with PyOMO\n",
        "\n",
        "[source](https://nbviewer.jupyter.org/github/Pyomo/PyomoGallery/blob/master/diet/DietProblem.ipynb)\n",
        "\n",
        "![](https://fmin.xyz/docs/methods/diet_LP.svg)"
      ]
    },
    {
      "cell_type": "markdown",
      "metadata": {
        "id": "naSvdIaSuqRs"
      },
      "source": [
        "Imagine, that you have to construct a diet plan from some set of products: 🍌🍰🍗🥚🐟. Each of the products has its own vector of nutrients. Thus, all the food information could be processed through the matrix $W$. Let also assume, that we have the vector of requirements for each of nutrients $r \\in \\mathbb{R}^n$. We need to find the cheapest configuration of the diet, which meets all the requirements:\n",
        "\n",
        "$$\n",
        "\\begin{align*}\n",
        "&\\min_{x \\in \\mathbb{R}^p} c^{\\top}x \\\\\n",
        "\\text{s.t. } & Wx \\geq r\\\\\n",
        "& x_i \\geq 0, \\; i = 1,\\dots, n\n",
        "\\end{align*}\n",
        "$$\n"
      ]
    },
    {
      "cell_type": "code",
      "metadata": {
        "colab": {
          "base_uri": "https://localhost:8080/"
        },
        "id": "O7KKkgGFu61q",
        "outputId": "83c8217b-7ea1-4aea-ca3e-a25d4060ebf6"
      },
      "source": [
        "!pip install pyomo"
      ],
      "execution_count": 20,
      "outputs": [
        {
          "output_type": "stream",
          "text": [
            "Collecting pyomo\n",
            "\u001b[?25l  Downloading https://files.pythonhosted.org/packages/ed/eb/b1769004e75bf4a81f3663f56e25ea8553f10af9f3f94481838f1cff758b/Pyomo-5.7.3-cp37-cp37m-manylinux2010_x86_64.whl (9.5MB)\n",
            "\u001b[K     |████████████████████████████████| 9.5MB 3.7MB/s \n",
            "\u001b[?25hCollecting PyUtilib>=6.0.0\n",
            "\u001b[?25l  Downloading https://files.pythonhosted.org/packages/e1/e7/c3e5994b4e5c90280b5c14ffef409875ec5436d1d0d9f8585794993a7d77/PyUtilib-6.0.0-py2.py3-none-any.whl (254kB)\n",
            "\u001b[K     |████████████████████████████████| 256kB 39.3MB/s \n",
            "\u001b[?25hRequirement already satisfied: six>=1.4 in /usr/local/lib/python3.7/dist-packages (from pyomo) (1.15.0)\n",
            "Collecting ply\n",
            "\u001b[?25l  Downloading https://files.pythonhosted.org/packages/a3/58/35da89ee790598a0700ea49b2a66594140f44dec458c07e8e3d4979137fc/ply-3.11-py2.py3-none-any.whl (49kB)\n",
            "\u001b[K     |████████████████████████████████| 51kB 4.2MB/s \n",
            "\u001b[?25hCollecting nose\n",
            "\u001b[?25l  Downloading https://files.pythonhosted.org/packages/15/d8/dd071918c040f50fa1cf80da16423af51ff8ce4a0f2399b7bf8de45ac3d9/nose-1.3.7-py3-none-any.whl (154kB)\n",
            "\u001b[K     |████████████████████████████████| 163kB 39.9MB/s \n",
            "\u001b[?25hInstalling collected packages: nose, PyUtilib, ply, pyomo\n",
            "Successfully installed PyUtilib-6.0.0 nose-1.3.7 ply-3.11 pyomo-5.7.3\n"
          ],
          "name": "stdout"
        }
      ]
    },
    {
      "cell_type": "code",
      "metadata": {
        "colab": {
          "base_uri": "https://localhost:8080/"
        },
        "id": "y8aOxJSzySXT",
        "outputId": "70e00096-4699-4033-986f-56a5cca5cb48"
      },
      "source": [
        "# Installing cbc solver\n",
        "import matplotlib.pyplot as plt\n",
        "import numpy as np\n",
        "\n",
        "import shutil\n",
        "import sys\n",
        "import os.path\n",
        "\n",
        "if not shutil.which(\"pyomo\"):\n",
        "    !pip install -q pyomo\n",
        "    assert(shutil.which(\"pyomo\"))\n",
        "\n",
        "if not (shutil.which(\"cbc\") or os.path.isfile(\"cbc\")):\n",
        "    if \"google.colab\" in sys.modules:\n",
        "        !apt-get install -y -qq coinor-cbc\n",
        "    else:\n",
        "        try:\n",
        "            !conda install -c conda-forge coincbc \n",
        "        except:\n",
        "            pass\n",
        "\n",
        "assert(shutil.which(\"cbc\") or os.path.isfile(\"cbc\"))\n",
        "\n",
        "from pyomo.environ import *"
      ],
      "execution_count": 21,
      "outputs": [
        {
          "output_type": "stream",
          "text": [
            "Selecting previously unselected package coinor-libcoinutils3v5.\n",
            "(Reading database ... 160980 files and directories currently installed.)\n",
            "Preparing to unpack .../0-coinor-libcoinutils3v5_2.10.14+repack1-1_amd64.deb ...\n",
            "Unpacking coinor-libcoinutils3v5 (2.10.14+repack1-1) ...\n",
            "Selecting previously unselected package coinor-libosi1v5.\n",
            "Preparing to unpack .../1-coinor-libosi1v5_0.107.9+repack1-1_amd64.deb ...\n",
            "Unpacking coinor-libosi1v5 (0.107.9+repack1-1) ...\n",
            "Selecting previously unselected package coinor-libclp1.\n",
            "Preparing to unpack .../2-coinor-libclp1_1.16.11+repack1-1_amd64.deb ...\n",
            "Unpacking coinor-libclp1 (1.16.11+repack1-1) ...\n",
            "Selecting previously unselected package coinor-libcgl1.\n",
            "Preparing to unpack .../3-coinor-libcgl1_0.59.10+repack1-1_amd64.deb ...\n",
            "Unpacking coinor-libcgl1 (0.59.10+repack1-1) ...\n",
            "Selecting previously unselected package coinor-libcbc3.\n",
            "Preparing to unpack .../4-coinor-libcbc3_2.9.9+repack1-1_amd64.deb ...\n",
            "Unpacking coinor-libcbc3 (2.9.9+repack1-1) ...\n",
            "Selecting previously unselected package coinor-cbc.\n",
            "Preparing to unpack .../5-coinor-cbc_2.9.9+repack1-1_amd64.deb ...\n",
            "Unpacking coinor-cbc (2.9.9+repack1-1) ...\n",
            "Setting up coinor-libcoinutils3v5 (2.10.14+repack1-1) ...\n",
            "Setting up coinor-libosi1v5 (0.107.9+repack1-1) ...\n",
            "Setting up coinor-libclp1 (1.16.11+repack1-1) ...\n",
            "Setting up coinor-libcgl1 (0.59.10+repack1-1) ...\n",
            "Setting up coinor-libcbc3 (2.9.9+repack1-1) ...\n",
            "Setting up coinor-cbc (2.9.9+repack1-1) ...\n",
            "Processing triggers for man-db (2.8.3-2ubuntu0.1) ...\n",
            "Processing triggers for libc-bin (2.27-3ubuntu1.2) ...\n",
            "/sbin/ldconfig.real: /usr/local/lib/python3.7/dist-packages/ideep4py/lib/libmkldnn.so.0 is not a symbolic link\n",
            "\n"
          ],
          "name": "stdout"
        }
      ]
    },
    {
      "cell_type": "code",
      "metadata": {
        "id": "wsJhV2vRueVj"
      },
      "source": [
        "# Creating pyomo model\n",
        "from pyomo.environ import *\n",
        "infinity = float('inf')\n",
        "\n",
        "model = AbstractModel()"
      ],
      "execution_count": 38,
      "outputs": []
    },
    {
      "cell_type": "code",
      "metadata": {
        "id": "Zp9t50H2vCbq"
      },
      "source": [
        "# Foods (products)\n",
        "model.p = Set()\n",
        "# Nutrients\n",
        "model.n = Set()"
      ],
      "execution_count": 39,
      "outputs": []
    },
    {
      "cell_type": "code",
      "metadata": {
        "id": "kyUfvR9ZvIfd"
      },
      "source": [
        "# Cost of each food\n",
        "model.c    = Param(model.p, within=PositiveReals)\n",
        "\n",
        "# Amount of nutrient in each food\n",
        "model.W    = Param(model.p, model.n, within=NonNegativeReals)\n",
        "\n",
        "# Lower and upper bound on each nutrient\n",
        "model.Nmin = Param(model.n, within=NonNegativeReals, default=0.0)\n",
        "model.Nmax = Param(model.n, within=NonNegativeReals, default=infinity)"
      ],
      "execution_count": 40,
      "outputs": []
    },
    {
      "cell_type": "code",
      "metadata": {
        "id": "h4BvsZmrws9G"
      },
      "source": [
        "# Defining variables\n",
        "# Number of servings consumed of each food\n",
        "model.x = Var(model.p, within=NonNegativeIntegers) "
      ],
      "execution_count": 41,
      "outputs": []
    },
    {
      "cell_type": "code",
      "metadata": {
        "id": "wF-EGDSwwsTH"
      },
      "source": [
        "# Defining cost function\n",
        "# Minimize the cost of food that is consumed\n",
        "def cost_rule(model):\n",
        "    return sum(model.c[i]*model.x[i] for i in model.p)\n",
        "model.cost = Objective(rule=cost_rule)"
      ],
      "execution_count": 42,
      "outputs": []
    },
    {
      "cell_type": "code",
      "metadata": {
        "id": "lTVt3OBNxPrv"
      },
      "source": [
        "# Defining the constraints\n",
        "# Limit nutrient consumption for each nutrient\n",
        "def nutrient_rule(model, j):\n",
        "    value = sum(model.W[i,j]*model.x[i] for i in model.p)\n",
        "    return model.Nmin[j] <= value <= model.Nmax[j]\n",
        "model.nutrient_limit = Constraint(model.n, rule=nutrient_rule)\n",
        "\n",
        "# Limit the volume of food consumed\n",
        "# def volume_rule(model):\n",
        "#     return sum(model.V[i]*model.x[i] for i in model.F) <= model.Vmax\n",
        "# model.volume = Constraint(rule=volume_rule)\n",
        "\n",
        "# model.volume_min = Constraint(rule=volume_rule)"
      ],
      "execution_count": 43,
      "outputs": []
    },
    {
      "cell_type": "code",
      "metadata": {
        "colab": {
          "base_uri": "https://localhost:8080/",
          "height": 69
        },
        "id": "ycvt-6b_x4tb",
        "outputId": "cc06904a-9d3f-4ed6-acad-19bd36f98dd6"
      },
      "source": [
        "# Donwloading file locally\n",
        "!pip install wget\n",
        "import wget\n",
        "import os\n",
        "\n",
        "print('Beginning file download with wget module')\n",
        "\n",
        "if os.path.exists('LP_diet_pyomo.py'):\n",
        "    os.remove('LP_diet_pyomo.py') \n",
        "url = 'https://raw.githubusercontent.com/MerkulovDaniil/optim/master/assets/Notebooks/LP_diet_pyomo.py'\n",
        "wget.download(url, 'LP_diet_pyomo.py')\n",
        "\n",
        "if os.path.exists('LP_diet_data.dat'):\n",
        "    os.remove('LP_diet_data.dat') \n",
        "url = 'https://raw.githubusercontent.com/MerkulovDaniil/optim/master/assets/Notebooks/LP_diet_data.dat'\n",
        "wget.download(url, 'LP_diet_data.dat')"
      ],
      "execution_count": 44,
      "outputs": [
        {
          "output_type": "stream",
          "text": [
            "Requirement already satisfied: wget in /usr/local/lib/python3.7/dist-packages (3.2)\n",
            "Beginning file download with wget module\n"
          ],
          "name": "stdout"
        },
        {
          "output_type": "execute_result",
          "data": {
            "application/vnd.google.colaboratory.intrinsic+json": {
              "type": "string"
            },
            "text/plain": [
              "'LP_diet_data.dat'"
            ]
          },
          "metadata": {
            "tags": []
          },
          "execution_count": 44
        }
      ]
    },
    {
      "cell_type": "code",
      "metadata": {
        "colab": {
          "base_uri": "https://localhost:8080/"
        },
        "id": "kzxWszr026JK",
        "outputId": "adde6f29-821f-4607-aea6-edcc2e4767b0"
      },
      "source": [
        "!cat LP_diet_pyomo.py"
      ],
      "execution_count": 45,
      "outputs": [
        {
          "output_type": "stream",
          "text": [
            "# Creating pyomo model\n",
            "from pyomo.environ import *\n",
            "infinity = float('inf')\n",
            "\n",
            "model = AbstractModel()\n",
            "\n",
            "# Foods (products)\n",
            "model.p = Set()\n",
            "# Nutrients\n",
            "model.n = Set()\n",
            "\n",
            "# Cost of each food\n",
            "model.c    = Param(model.p, within=PositiveReals)\n",
            "\n",
            "# Amount of nutrient in each food\n",
            "model.W    = Param(model.p, model.n, within=NonNegativeReals)\n",
            "\n",
            "# Lower and upper bound on each nutrient\n",
            "model.Nmin = Param(model.n, within=NonNegativeReals, default=0.0)\n",
            "model.Nmax = Param(model.n, within=NonNegativeReals, default=infinity)\n",
            "\n",
            "# Defining variables\n",
            "# Number of servings consumed of each food\n",
            "model.x = Var(model.p, within=NonNegativeIntegers) \n",
            "\n",
            "# Defining cost function\n",
            "# Minimize the cost of food that is consumed\n",
            "def cost_rule(model):\n",
            "    return sum(model.c[i]*model.x[i] for i in model.p)\n",
            "model.cost = Objective(rule=cost_rule)\n",
            "\n",
            "# Defining the constraints\n",
            "# Limit nutrient consumption for each nutrient\n",
            "def nutrient_rule(model, j):\n",
            "    value = sum(model.W[i,j]*model.x[i] for i in model.p)\n",
            "    return model.Nmin[j] <= value <= model.Nmax[j]\n",
            "model.nutrient_limit = Constraint(model.n, rule=nutrient_rule)\n"
          ],
          "name": "stdout"
        }
      ]
    },
    {
      "cell_type": "code",
      "metadata": {
        "colab": {
          "base_uri": "https://localhost:8080/"
        },
        "id": "mzKibWAW29I9",
        "outputId": "6d8dc3cf-5e55-40d6-9d05-c95d76d5171e"
      },
      "source": [
        "!cat LP_diet_data.dat"
      ],
      "execution_count": 46,
      "outputs": [
        {
          "output_type": "stream",
          "text": [
            "param:  p:                          c :=\n",
            "  \"Cheeseburger\"                 1.84  \n",
            "  \"Ham Sandwich\"                 2.19  \n",
            "  \"Hamburger\"                    1.84  \n",
            "  \"Fish Sandwich\"                1.44  \n",
            "  \"Chicken Sandwich\"             2.29  \n",
            "  \"Fries\"                         .77  \n",
            "  \"Sausage Biscuit\"              1.29  \n",
            "  \"Lowfat Milk\"                   .60 \n",
            "  \"Orange Juice\"                  .72 ;\n",
            "\n",
            "param:  n:       Nmin   Nmax :=\n",
            "        Cal      2000      .\n",
            "        Carbo     350    375\n",
            "        Protein    55      .\n",
            "        VitA      100      .\n",
            "        VitC      100      .\n",
            "        Calc      100      .\n",
            "        Iron      100      . ;\n",
            "\n",
            "param W:\n",
            "                               Cal  Carbo Protein   VitA   VitC  Calc  Iron :=\n",
            "  \"Cheeseburger\"               510     34     28     15      6    30    20\n",
            "  \"Ham Sandwich\"               370     35     24     15     10    20    20\n",
            "  \"Hamburger\"                  500     42     25      6      2    25    20\n",
            "  \"Fish Sandwich\"              370     38     14      2      0    15    10\n",
            "  \"Chicken Sandwich\"           400     42     31      8     15    15     8\n",
            "  \"Fries\"                      220     26      3      0     15     0     2\n",
            "  \"Sausage Biscuit\"            345     27     15      4      0    20    15\n",
            "  \"Lowfat Milk\"                110     12      9     10      4    30     0\n",
            "  \"Orange Juice\"                80     20      1      2    120     2     2 ;\n"
          ],
          "name": "stdout"
        }
      ]
    },
    {
      "cell_type": "code",
      "metadata": {
        "colab": {
          "base_uri": "https://localhost:8080/"
        },
        "id": "ZmaG0McY3Tgv",
        "outputId": "b1e2e1c9-fdf1-4a4e-f3a0-37ec8834e5e6"
      },
      "source": [
        "!pyomo solve --solver=cbc LP_diet_pyomo.py LP_diet_data.dat"
      ],
      "execution_count": 47,
      "outputs": [
        {
          "output_type": "stream",
          "text": [
            "[    0.00] Setting up Pyomo environment\n",
            "[    0.00] Applying Pyomo preprocessing actions\n",
            "[    0.00] Creating model\n",
            "WARNING: DEPRECATED: Chained inequalities are deprecated. Use the inequality()\n",
            "    function to express ranged inequality expressions. (called from\n",
            "    /content/LP_diet_pyomo.py:36)\n",
            "WARNING: DEPRECATED: Chained inequalities are deprecated. Use the inequality()\n",
            "    function to express ranged inequality expressions. (called from\n",
            "    /content/LP_diet_pyomo.py:36)\n",
            "WARNING: DEPRECATED: Chained inequalities are deprecated. Use the inequality()\n",
            "    function to express ranged inequality expressions. (called from\n",
            "    /content/LP_diet_pyomo.py:36)\n",
            "WARNING: DEPRECATED: Chained inequalities are deprecated. Use the inequality()\n",
            "    function to express ranged inequality expressions. (called from\n",
            "    /content/LP_diet_pyomo.py:36)\n",
            "WARNING: DEPRECATED: Chained inequalities are deprecated. Use the inequality()\n",
            "    function to express ranged inequality expressions. (called from\n",
            "    /content/LP_diet_pyomo.py:36)\n",
            "WARNING: DEPRECATED: Chained inequalities are deprecated. Use the inequality()\n",
            "    function to express ranged inequality expressions. (called from\n",
            "    /content/LP_diet_pyomo.py:36)\n",
            "WARNING: DEPRECATED: Chained inequalities are deprecated. Use the inequality()\n",
            "    function to express ranged inequality expressions. (called from\n",
            "    /content/LP_diet_pyomo.py:36)\n",
            "[    0.10] Applying solver\n",
            "[    0.20] Processing results\n",
            "    Number of solutions: 1\n",
            "    Solution Information\n",
            "      Gap: 0.0\n",
            "      Status: optimal\n",
            "      Function Value: 15.05\n",
            "    Solver results file: results.json\n",
            "[    0.20] Applying Pyomo postprocessing actions\n",
            "[    0.20] Pyomo Finished\n"
          ],
          "name": "stdout"
        }
      ]
    },
    {
      "cell_type": "code",
      "metadata": {
        "colab": {
          "base_uri": "https://localhost:8080/"
        },
        "id": "IJ0qBysD6BaY",
        "outputId": "ac379c1b-58b7-4fc5-f263-12ade2286a81"
      },
      "source": [
        "!cat results.json"
      ],
      "execution_count": 48,
      "outputs": [
        {
          "output_type": "stream",
          "text": [
            "{\n",
            "    \"Problem\": [\n",
            "        {\n",
            "            \"Lower bound\": 15.05,\n",
            "            \"Name\": \"unknown\",\n",
            "            \"Number of binary variables\": 0,\n",
            "            \"Number of constraints\": 8,\n",
            "            \"Number of integer variables\": 9,\n",
            "            \"Number of nonzeros\": 9,\n",
            "            \"Number of objectives\": 1,\n",
            "            \"Number of variables\": 9,\n",
            "            \"Sense\": \"minimize\",\n",
            "            \"Upper bound\": 15.05\n",
            "        }\n",
            "    ],\n",
            "    \"Solution\": [\n",
            "        {\n",
            "            \"number of solutions\": 1,\n",
            "            \"number of solutions displayed\": 1\n",
            "        },\n",
            "        {\n",
            "            \"Constraint\": \"No values\",\n",
            "            \"Gap\": 0.0,\n",
            "            \"Message\": null,\n",
            "            \"Objective\": {\n",
            "                \"cost\": {\n",
            "                    \"Value\": 15.05\n",
            "                }\n",
            "            },\n",
            "            \"Problem\": {},\n",
            "            \"Status\": \"optimal\",\n",
            "            \"Variable\": {\n",
            "                \"x[Cheeseburger]\": {\n",
            "                    \"Value\": 4.0\n",
            "                },\n",
            "                \"x[Fish Sandwich]\": {\n",
            "                    \"Value\": 1.0\n",
            "                },\n",
            "                \"x[Fries]\": {\n",
            "                    \"Value\": 5.0\n",
            "                },\n",
            "                \"x[Lowfat Milk]\": {\n",
            "                    \"Value\": 4.0\n",
            "                }\n",
            "            }\n",
            "        }\n",
            "    ],\n",
            "    \"Solver\": [\n",
            "        {\n",
            "            \"Error rc\": 0,\n",
            "            \"Statistics\": {\n",
            "                \"Black box\": {\n",
            "                    \"Number of iterations\": 714\n",
            "                },\n",
            "                \"Branch and bound\": {\n",
            "                    \"Number of bounded subproblems\": 30,\n",
            "                    \"Number of created subproblems\": 30\n",
            "                }\n",
            "            },\n",
            "            \"Status\": \"ok\",\n",
            "            \"System time\": 0.08,\n",
            "            \"Termination condition\": \"optimal\",\n",
            "            \"Termination message\": \"Model was solved to optimality (subject to tolerances), and an optimal solution is available.\",\n",
            "            \"Time\": 0.0947716236114502,\n",
            "            \"User time\": -1.0,\n",
            "            \"Wallclock time\": 0.08\n",
            "        }\n",
            "    ]\n",
            "}"
          ],
          "name": "stdout"
        }
      ]
    },
    {
      "cell_type": "markdown",
      "metadata": {
        "id": "qc-vPN03Fjmm"
      },
      "source": [
        "## 📉 Production plans\n",
        "\n",
        "[source](https://colab.research.google.com/github/jckantor/ND-Pyomo-Cookbook/blob/master/notebooks/02.01-Production-Models-with-Linear-Constraints.ipynb#scrollTo=izk2tTP1ecII)"
      ]
    },
    {
      "cell_type": "markdown",
      "metadata": {
        "id": "-VNwdz5RDiYu"
      },
      "source": [
        "### Example: Production plan for a single product plant"
      ]
    },
    {
      "cell_type": "markdown",
      "metadata": {
        "id": "P7xdxTgdDlHm"
      },
      "source": [
        "Suppose you are thinking about starting up a business to produce Product X. You have determined there is a market for X of up to 40 units per week at a price of USD 270 each. The production of each unit requires USD 100 of raw materials, 1 hour of type A labor, and 2 hours of type B labor. You have an unlimited amount of raw material available to you, but only 80 hours per week of labor A at a cost of USD 50/hour, and 100 hours per week of labor B at a cost of USD 40 per hour. Ignoring all other expenses, what is the maximum weekly profit?\n",
        "\n",
        "To get started on this problem, we sketch a flow diagram illustrating the flow of raw materials and labor through the production plant.\n",
        "\n",
        "![LP_ProductX.png](https://github.com/jckantor/ND-Pyomo-Cookbook/blob/master/notebooks/figures/LP_ProductX.png?raw=1)\n",
        "\n",
        "The essential decision we need to make is how many units or Product X to produce each week. That's our *decision variable* which we denote as $x$. The weekly revenues are then\n",
        "\n",
        "$$\n",
        "\\mbox{Revenue} = \\$270 x\n",
        "$$\n",
        "\n",
        "The costs include the value of the raw materials and each form of labor. If we produce x units a week, then the total cost is\n",
        "\n",
        "$$\n",
        "\\mbox{Cost} = \\underbrace{\\$100 x}_{\\mbox{Raw Material}} + \\underbrace{\\$50 x}_{\\mbox{Labor A}} + \\underbrace{2\\times\\$40 x}_{\\mbox{Labor B}} = \\$230 x\n",
        "$$\n",
        "    \n",
        "We see immediately that the gross profit is just\n",
        "\n",
        "\n",
        "\\begin{split}\n",
        "\\mbox{Profit} & = & \\mbox{Revenue} - \\mbox{Cost} \\\\\n",
        "& = & \\$ 270x - \\$ 230x \\\\\n",
        "& = & \\$ 40 x\n",
        "\\end{split}\n",
        "\n",
        "\n",
        "which means there is a profit earned on each unit of X produced, so let's produce as many as possible. \n",
        "\n",
        "There are three constraints that limit how many units can be produced. There is market demand for no more than 40 units per week. Producing $x = 40$ units per week will require 40 hours per week of Labor A, and 80 hours per week of Labor B. Checking those constraints we see that we have enough labor of each type, so the maximum profit will be\n",
        "\n",
        "$$\n",
        "\\max \\mbox{Profit} = $40 \\mbox{ per unit} \\times 40 \\mbox{ units per week} = \\$1600 \\mbox{ per week}\n",
        "$$\n",
        "\n",
        "What we conclude is that market demand is the 'most constraining constraint.' Once we've made that deduction, the rest is a straightforward problem that can be solved by inspection.  "
      ]
    },
    {
      "cell_type": "markdown",
      "metadata": {
        "id": "bopmyS_aEL5r"
      },
      "source": [
        "While this problem can be solved by inspection, here we show a Pyomo model that generates a solution to the problem."
      ]
    },
    {
      "cell_type": "code",
      "metadata": {
        "colab": {
          "base_uri": "https://localhost:8080/"
        },
        "id": "x7ZuZGJTDjot",
        "outputId": "ef186bdd-bd0f-4e64-868a-9a4a2a33f1a1"
      },
      "source": [
        "model = ConcreteModel()\n",
        "\n",
        "# declare decision variables\n",
        "model.x = Var(domain=NonNegativeReals)\n",
        "\n",
        "# declare objective\n",
        "model.profit = Objective(\n",
        "    expr = 40*model.x,\n",
        "    sense = maximize)\n",
        "\n",
        "# declare constraints\n",
        "model.demand = Constraint(expr = model.x <= 40)\n",
        "model.laborA = Constraint(expr = model.x <= 80)\n",
        "model.laborB = Constraint(expr = 2*model.x <= 100)\n",
        "\n",
        "# solve\n",
        "SolverFactory('cbc').solve(model).write()"
      ],
      "execution_count": 49,
      "outputs": [
        {
          "output_type": "stream",
          "text": [
            "# ==========================================================\n",
            "# = Solver Results                                         =\n",
            "# ==========================================================\n",
            "# ----------------------------------------------------------\n",
            "#   Problem Information\n",
            "# ----------------------------------------------------------\n",
            "Problem: \n",
            "- Name: unknown\n",
            "  Lower bound: 1600.0\n",
            "  Upper bound: 1600.0\n",
            "  Number of objectives: 1\n",
            "  Number of constraints: 4\n",
            "  Number of variables: 2\n",
            "  Number of nonzeros: 0\n",
            "  Sense: maximize\n",
            "# ----------------------------------------------------------\n",
            "#   Solver Information\n",
            "# ----------------------------------------------------------\n",
            "Solver: \n",
            "- Status: ok\n",
            "  User time: -1.0\n",
            "  System time: 0.0\n",
            "  Wallclock time: 0.0\n",
            "  Termination condition: optimal\n",
            "  Termination message: Model was solved to optimality (subject to tolerances), and an optimal solution is available.\n",
            "  Statistics: \n",
            "    Branch and bound: \n",
            "      Number of bounded subproblems: None\n",
            "      Number of created subproblems: None\n",
            "    Black box: \n",
            "      Number of iterations: 0\n",
            "  Error rc: 0\n",
            "  Time: 0.024201154708862305\n",
            "# ----------------------------------------------------------\n",
            "#   Solution Information\n",
            "# ----------------------------------------------------------\n",
            "Solution: \n",
            "- number of solutions: 0\n",
            "  number of solutions displayed: 0\n"
          ],
          "name": "stdout"
        }
      ]
    },
    {
      "cell_type": "markdown",
      "metadata": {
        "id": "pv4EwUjUEVrO"
      },
      "source": [
        "The results of the solution step show the solver has converged to an optimal solution. Next we display the particular components of the model of interest to us."
      ]
    },
    {
      "cell_type": "code",
      "metadata": {
        "colab": {
          "base_uri": "https://localhost:8080/"
        },
        "id": "v9wC7c8eEXSK",
        "outputId": "34bb490d-e976-4459-9475-0a251cff40ec"
      },
      "source": [
        "print(\"Profit = \", model.profit(), \" per week\")\n",
        "print(\"X = \", model.x(), \" units per week\")"
      ],
      "execution_count": 50,
      "outputs": [
        {
          "output_type": "stream",
          "text": [
            "Profit =  1600.0  per week\n",
            "X =  40.0  units per week\n"
          ],
          "name": "stdout"
        }
      ]
    },
    {
      "cell_type": "markdown",
      "metadata": {
        "id": "BYe4eDmAecIZ",
        "pycharm": {}
      },
      "source": [
        "#### Simple exercises"
      ]
    },
    {
      "cell_type": "markdown",
      "metadata": {
        "id": "5-cCaUWKecIZ",
        "pycharm": {}
      },
      "source": [
        "1. Suppose the demand could be increased to 50 units per month. What would be the increased profits?  What if the demand increased to 60 units per month?  How much would you be willing to pay for your marketing department for the increased demand?\n",
        "\n",
        "2. Increase the cost of LaborB. At what point is it no longer financially viable to run the plant?"
      ]
    },
    {
      "cell_type": "markdown",
      "metadata": {
        "id": "7R9q6sDcecIa",
        "pycharm": {}
      },
      "source": [
        "### Production plan: Product Y"
      ]
    },
    {
      "cell_type": "markdown",
      "metadata": {
        "id": "uHrtxXrhecIb",
        "pycharm": {}
      },
      "source": [
        "Your marketing department has developed plans for a new product called Y. The product sells at a price of USD 210/each, and they expect that you can sell all that you can make. It's also cheaper to make, requiring only USD 90 in raw materials, 1 hour of Labor type A at USD 50 per hour, and 1 hour of Labor B at USD 40 per hour. What is the potential weekly profit?\n",
        "\n",
        "![LP_ProductY.png](https://github.com/jckantor/ND-Pyomo-Cookbook/blob/master/notebooks/figures/LP_ProductY.png?raw=1)"
      ]
    },
    {
      "cell_type": "code",
      "metadata": {
        "colab": {
          "base_uri": "https://localhost:8080/"
        },
        "id": "rHGr9LwqecId",
        "pycharm": {},
        "outputId": "b247fe30-753d-4de2-d396-6027df876681"
      },
      "source": [
        "model = ConcreteModel()\n",
        "\n",
        "# declare decision variables\n",
        "model.y = Var(domain=NonNegativeReals)\n",
        "\n",
        "# declare objective\n",
        "model.profit = Objective(\n",
        "    expr = 30*model.y,\n",
        "    sense = maximize)\n",
        "\n",
        "# declare constraints\n",
        "model.laborA = Constraint(expr = model.y <= 80)\n",
        "model.laborB = Constraint(expr = model.y <= 100)\n",
        "\n",
        "# solve\n",
        "SolverFactory('cbc').solve(model).write()"
      ],
      "execution_count": 51,
      "outputs": [
        {
          "output_type": "stream",
          "text": [
            "# ==========================================================\n",
            "# = Solver Results                                         =\n",
            "# ==========================================================\n",
            "# ----------------------------------------------------------\n",
            "#   Problem Information\n",
            "# ----------------------------------------------------------\n",
            "Problem: \n",
            "- Name: unknown\n",
            "  Lower bound: 2400.0\n",
            "  Upper bound: 2400.0\n",
            "  Number of objectives: 1\n",
            "  Number of constraints: 3\n",
            "  Number of variables: 2\n",
            "  Number of nonzeros: 0\n",
            "  Sense: maximize\n",
            "# ----------------------------------------------------------\n",
            "#   Solver Information\n",
            "# ----------------------------------------------------------\n",
            "Solver: \n",
            "- Status: ok\n",
            "  User time: -1.0\n",
            "  System time: 0.0\n",
            "  Wallclock time: 0.0\n",
            "  Termination condition: optimal\n",
            "  Termination message: Model was solved to optimality (subject to tolerances), and an optimal solution is available.\n",
            "  Statistics: \n",
            "    Branch and bound: \n",
            "      Number of bounded subproblems: None\n",
            "      Number of created subproblems: None\n",
            "    Black box: \n",
            "      Number of iterations: 0\n",
            "  Error rc: 0\n",
            "  Time: 0.025733470916748047\n",
            "# ----------------------------------------------------------\n",
            "#   Solution Information\n",
            "# ----------------------------------------------------------\n",
            "Solution: \n",
            "- number of solutions: 0\n",
            "  number of solutions displayed: 0\n"
          ],
          "name": "stdout"
        }
      ]
    },
    {
      "cell_type": "code",
      "metadata": {
        "colab": {
          "base_uri": "https://localhost:8080/"
        },
        "id": "b9SY8ZPRecIh",
        "pycharm": {},
        "outputId": "ab9b1edf-dab4-437c-ce67-34643c8e506f"
      },
      "source": [
        "print(\"Profit = \", model.profit())\n",
        "print(\"Units of Y = \", model.y())"
      ],
      "execution_count": 52,
      "outputs": [
        {
          "output_type": "stream",
          "text": [
            "Profit =  2400.0\n",
            "Units of Y =  80.0\n"
          ],
          "name": "stdout"
        }
      ]
    },
    {
      "cell_type": "markdown",
      "metadata": {
        "id": "oEl-VQeyecIk",
        "pycharm": {}
      },
      "source": [
        "Compared to product X, we can manufacture and sell up 80 units per week for a total profit of \\$2,400. This is very welcome news. "
      ]
    },
    {
      "cell_type": "markdown",
      "metadata": {
        "id": "uqfCBHxjecIm",
        "pycharm": {}
      },
      "source": [
        "#### Simple exercises"
      ]
    },
    {
      "cell_type": "markdown",
      "metadata": {
        "id": "2LnLKNbfecIm",
        "pycharm": {}
      },
      "source": [
        "1. What is the limiting resource?  That is, which of the two types of labor limits the capacity of your plant to produce more units of Y?\n",
        "\n",
        "2. What rate would you be willing to pay for the additional labor necessary to increase the production of Y?"
      ]
    },
    {
      "cell_type": "markdown",
      "metadata": {
        "id": "Df2vj9GiecIn",
        "pycharm": {}
      },
      "source": [
        "### Production plan: Mixed product strategy"
      ]
    },
    {
      "cell_type": "markdown",
      "metadata": {
        "id": "uMh4W-ijecIo",
        "pycharm": {}
      },
      "source": [
        "So far we have learned that we can make $\\$1,600$ per week by manufacturing product X, and $\\$2,400$ per week manufacturing product Y.  Is it possible to do even better?\n",
        "\n",
        "To answer this question, we consider the possibilty of manufacturing both products in the same plant. The marketing department assures us that product Y will not affect the sales of product X.  So the same constraints hold as before, but now we have two decision variables, $x$ and $y$.\n",
        "\n",
        "![LP_ProductXY.png](https://github.com/jckantor/ND-Pyomo-Cookbook/blob/master/notebooks/figures/LP_ProductXY.png?raw=1)"
      ]
    },
    {
      "cell_type": "code",
      "metadata": {
        "colab": {
          "base_uri": "https://localhost:8080/"
        },
        "id": "RgjGjPrFecIr",
        "pycharm": {},
        "outputId": "f0d44320-fd4a-4cf7-daa4-38f5701d5960"
      },
      "source": [
        "model = ConcreteModel()\n",
        "\n",
        "# declare decision variables\n",
        "model.x = Var(domain=NonNegativeReals)\n",
        "model.y = Var(domain=NonNegativeReals)\n",
        "\n",
        "# declare objective\n",
        "model.profit = Objective(\n",
        "    expr = 40*model.x + 30*model.y,\n",
        "    sense = maximize)\n",
        "\n",
        "# declare constraints\n",
        "model.demand = Constraint(expr = model.x <= 40)\n",
        "model.laborA = Constraint(expr = model.x + model.y <= 80)\n",
        "model.laborB = Constraint(expr = 2*model.x + model.y <= 100)\n",
        "\n",
        "# solve\n",
        "SolverFactory('cbc').solve(model).write()"
      ],
      "execution_count": 53,
      "outputs": [
        {
          "output_type": "stream",
          "text": [
            "# ==========================================================\n",
            "# = Solver Results                                         =\n",
            "# ==========================================================\n",
            "# ----------------------------------------------------------\n",
            "#   Problem Information\n",
            "# ----------------------------------------------------------\n",
            "Problem: \n",
            "- Name: unknown\n",
            "  Lower bound: 2600.0\n",
            "  Upper bound: 2600.0\n",
            "  Number of objectives: 1\n",
            "  Number of constraints: 4\n",
            "  Number of variables: 3\n",
            "  Number of nonzeros: 2\n",
            "  Sense: maximize\n",
            "# ----------------------------------------------------------\n",
            "#   Solver Information\n",
            "# ----------------------------------------------------------\n",
            "Solver: \n",
            "- Status: ok\n",
            "  User time: -1.0\n",
            "  System time: 0.0\n",
            "  Wallclock time: 0.0\n",
            "  Termination condition: optimal\n",
            "  Termination message: Model was solved to optimality (subject to tolerances), and an optimal solution is available.\n",
            "  Statistics: \n",
            "    Branch and bound: \n",
            "      Number of bounded subproblems: None\n",
            "      Number of created subproblems: None\n",
            "    Black box: \n",
            "      Number of iterations: 2\n",
            "  Error rc: 0\n",
            "  Time: 0.023098468780517578\n",
            "# ----------------------------------------------------------\n",
            "#   Solution Information\n",
            "# ----------------------------------------------------------\n",
            "Solution: \n",
            "- number of solutions: 0\n",
            "  number of solutions displayed: 0\n"
          ],
          "name": "stdout"
        }
      ]
    },
    {
      "cell_type": "code",
      "metadata": {
        "colab": {
          "base_uri": "https://localhost:8080/"
        },
        "id": "16AtkqK1ecIy",
        "pycharm": {},
        "outputId": "7d9f1a33-70d5-414e-e761-a863e6479977"
      },
      "source": [
        "# display solution\n",
        "print(\"Profit = \", model.profit())\n",
        "print(\"Units of X = \", model.x())\n",
        "print(\"Units of Y = \", model.y())"
      ],
      "execution_count": 54,
      "outputs": [
        {
          "output_type": "stream",
          "text": [
            "Profit =  2600.0\n",
            "Units of X =  20.0\n",
            "Units of Y =  60.0\n"
          ],
          "name": "stdout"
        }
      ]
    },
    {
      "cell_type": "markdown",
      "metadata": {
        "id": "x7WugdoxecI1",
        "pycharm": {}
      },
      "source": [
        "The mixed product strategy earns more profit than either of the single product srategies. Does this surprise you?  Before going further, try to explain why it is possible for a mixed product strategy to earn more profit than either of the possible single product strategies."
      ]
    },
    {
      "cell_type": "markdown",
      "metadata": {
        "id": "o_K5Y2OaecI2",
        "pycharm": {}
      },
      "source": [
        "### What are the active constraints?"
      ]
    },
    {
      "cell_type": "code",
      "metadata": {
        "colab": {
          "base_uri": "https://localhost:8080/",
          "height": 398
        },
        "id": "DewV4M8mecI3",
        "pycharm": {},
        "outputId": "7ecf35aa-7dad-42e0-c18c-dd98b65c3cd4"
      },
      "source": [
        "plt.figure(figsize=(6, 6))\n",
        "plt.subplot(111, aspect='equal')\n",
        "plt.axis([0, 100, 0, 100])\n",
        "plt.xlabel('Production Qty X')\n",
        "plt.ylabel('Production Qty Y')\n",
        "\n",
        "# Labor A constraint\n",
        "x = np.array([0, 80])\n",
        "y = 80 - x\n",
        "plt.plot(x, y, 'r', lw=2)\n",
        "plt.fill_between([0, 80, 100], [80, 0,0 ], [100, 100, 100], color='r', alpha=0.15)\n",
        "\n",
        "# Labor B constraint\n",
        "x = np.array([0, 50])\n",
        "y = 100 - 2*x\n",
        "plt.plot(x, y, 'b', lw=2)\n",
        "plt.fill_between([0, 50, 100], [100, 0, 0], [100, 100, 100], color='b', alpha=0.15)\n",
        "\n",
        "# Demand constraint\n",
        "plt.plot([40, 40], [0, 100], 'g', lw=2)\n",
        "plt.fill_between([40, 100], [0, 0], [100, 100], color='g', alpha=0.15)\n",
        "\n",
        "plt.legend(['Labor A Constraint', 'Labor B Constraint', 'Demand Constraint'])\n",
        "\n",
        "# Contours of constant profit\n",
        "x = np.array([0, 100])\n",
        "for p in np.linspace(0, 3600, 10):\n",
        "    y = (p - 40*x)/30\n",
        "    plt.plot(x, y, 'y--')\n",
        "\n",
        "# Optimum\n",
        "plt.plot(20, 60, 'r.', ms=20)\n",
        "plt.annotate('Mixed Product Strategy', xy=(20, 60), xytext=(50, 70), \n",
        "             arrowprops=dict(shrink=.1, width=1, headwidth=5))\n",
        "\n",
        "plt.plot(0, 80, 'b.', ms=20)\n",
        "plt.annotate('Y Only', xy=(0, 80), xytext=(20, 90), \n",
        "             arrowprops=dict(shrink=0.1, width=1, headwidth=5))\n",
        "\n",
        "plt.plot(40, 0, 'b.', ms=20)\n",
        "plt.annotate('X Only', xy=(40, 0), xytext=(70, 20), \n",
        "             arrowprops=dict(shrink=0.1, width=1, headwidth=5))\n",
        "\n",
        "plt.text(4, 23, 'Increasing Profit')\n",
        "plt.annotate('', xy=(20,15), xytext=(0,0), \n",
        "             arrowprops=dict(width=0.5,headwidth=5))\n",
        "\n",
        "fname = 'LPprog01.png'\n",
        "fname = os.path.join('figures', fname) if os.path.exists('figures') else fname\n",
        "plt.savefig(fname, bbox_inches='tight')"
      ],
      "execution_count": 55,
      "outputs": [
        {
          "output_type": "display_data",
          "data": {
            "image/png": "[encoded data removed]",
            "text/plain": [
              "<Figure size 432x432 with 1 Axes>"
            ]
          },
          "metadata": {
            "tags": [],
            "needs_background": "light"
          }
        }
      ]
    },
    {
      "cell_type": "markdown",
      "metadata": {
        "id": "8zmfJY7CHnEF"
      },
      "source": [
        "## 🍺🤔 ➡ 🍻😀 Pivko Blending problem"
      ]
    },
    {
      "cell_type": "markdown",
      "metadata": {
        "id": "Hpw8WrqYfvQn",
        "pycharm": {}
      },
      "source": [
        "### Problem Statement (Jenchura, 2017)\n",
        "\n",
        "A brewery receives an order for 100 gallons of 4% ABV (alchohol by volume) beer. The brewery has on hand beer A that is 4.5% ABV that cost USD 0.32 per gallon to make, and beer B that is 3.7% ABV and cost USD 0.25 per gallon. Water could also be used as a blending agent at a cost of USD 0.05 per gallon. Find the minimum cost blend that meets the customer requirements."
      ]
    },
    {
      "cell_type": "markdown",
      "metadata": {
        "pycharm": {
          "metadata": false
        },
        "id": "Na8TWs4bHFDD"
      },
      "source": [
        "### Representing Problem Data as a Python Dictionary\n",
        "\n",
        "We will use this problem as an opportunity to write a Python function that accepts data on raw materials and customer specifications to produce the lowest cost blend.\n",
        "\n",
        "The first step is to represent the problem data in a generic manner that could, if needed, be extended to include additional blending components.  Here we use a dictionary of materials, each key denoting a blending agent. For each key there is a sub-dictionary containing attributes of each blending component."
      ]
    },
    {
      "cell_type": "code",
      "metadata": {
        "id": "fDkJ5HzkfvQp",
        "pycharm": {}
      },
      "source": [
        "data = {\n",
        "    'Okhota': {'abv': 0.045, 'cost': 0.32},\n",
        "    'Baltika': {'abv': 0.037, 'cost': 0.25},\n",
        "    'Water': {'abv': 0.000, 'cost': 0.05},\n",
        "}"
      ],
      "execution_count": 56,
      "outputs": []
    },
    {
      "cell_type": "markdown",
      "metadata": {
        "id": "-dL8rmGpHFDE"
      },
      "source": [
        "### Model Formulation"
      ]
    },
    {
      "cell_type": "markdown",
      "metadata": {
        "id": "rCJAYhYSfvQu",
        "pycharm": {}
      },
      "source": [
        "#### Objective Function\n",
        "\n",
        "If we let subscript $c$ denote a blending component from the set of blending components $C$, and denote the volume of $c$ used in the blend as $x_c$, the cost of the blend is\n",
        "\n",
        "\\begin{align}\n",
        "\\mbox{cost} & = \\sum_{c\\in C} x_c P_c\n",
        "\\end{align}\n",
        "\n",
        "where $P_c$ is the price per unit volume of $c$. Using the Python data dictionary defined above, the price $P_c$ is given by `data[c]['cost']`.\n"
      ]
    },
    {
      "cell_type": "markdown",
      "metadata": {
        "pycharm": {
          "metadata": false,
          "name": "#%% md\n"
        },
        "id": "ScuOBR_iHFDF"
      },
      "source": [
        "#### Volume Constraint\n",
        "\n",
        "The customer requirement is produce a total volume $V$. Assuming ideal solutions, the constraint is given by\n",
        "\n",
        "\\begin{align}\n",
        "V &  = \\sum_{c\\in C} x_c\n",
        "\\end{align}\n",
        "\n",
        "where $x_c$ denotes the volume of component $c$ used in the blend.\n"
      ]
    },
    {
      "cell_type": "markdown",
      "metadata": {
        "pycharm": {
          "metadata": false,
          "name": "#%% md\n"
        },
        "id": "4F3rJwhNHFDF"
      },
      "source": [
        "#### Product Composition Constraint\n",
        "\n",
        "The product composition is specified as 4% alchohol by volume. Denoting this as $\\bar{A}$, the constraint may be written as\n",
        "\n",
        "\\begin{align}\n",
        "\\bar{A} & = \\frac{\\sum_{c\\in C}x_c A_c}{\\sum_{c\\in C} x_c}\n",
        "\\end{align}\n",
        "\n",
        "where $A_c$ is the alcohol by volume for component $c$. As written, this is a nonlinear constraint. Multiplying both sides of the equation by the denominator yields a linear constraint\n",
        "\n",
        "\\begin{align}\n",
        "\\bar{A}\\sum_{c\\in C} x_c & = \\sum_{c\\in C}x_c A_c\n",
        "\\end{align}\n",
        "\n",
        "A final form for this constraint can be given in either of two versions. In the first version we subtract the left-hand side from the right to give\n",
        "\n",
        "\\begin{align}\n",
        "0 & = \\sum_{c\\in C}x_c \\left(A_c - \\bar{A}\\right) & \\mbox{ Version 1 of the linear blending constraint}\n",
        "\\end{align}\n",
        "\n",
        "Alternatively, the summation on the left-hand side corresponds to total volume. Since that is known as part of the problem specification, the blending constraint could also be written as\n",
        "\n",
        "\\begin{align}\n",
        "\\bar{A}V & = \\sum_{c\\in C}x_c A_c  & \\mbox{ Version 2 of the linear blending constraint}\n",
        "\\end{align}\n",
        "\n",
        "Which should you use? Either will generally work well. The advantage of version 1 is that it is fully specified by a product requirement $\\bar{A}$, which is sometimes helpful in writing elegant Python code.\n"
      ]
    },
    {
      "cell_type": "markdown",
      "metadata": {
        "pycharm": {
          "metadata": false,
          "name": "#%% md\n"
        },
        "id": "ZmLLrVo9HFDF"
      },
      "source": [
        "### Implementation in Pyomo\n",
        "\n",
        "A Pyomo implementation of this blending model is shown in the next cell. The model is contained within a Python function so that it can be more easily reused for additional calculations, or eventually for use by the process operator.\n",
        "\n",
        "Note that the pyomo library has been imported with the prefix `pyomo`. This is good programming practive to avoid namespace collisions with problem data."
      ]
    },
    {
      "cell_type": "code",
      "metadata": {
        "colab": {
          "base_uri": "https://localhost:8080/"
        },
        "id": "bBqNKjPAfvQv",
        "pycharm": {},
        "outputId": "f440b343-8cf3-4ccc-9c1f-2b9fc2a5105c"
      },
      "source": [
        "vol = 100\n",
        "abv = 0.04\n",
        "\n",
        "def beer_blend(vol, abv, data):\n",
        "    C = data.keys()\n",
        "    model = ConcreteModel()\n",
        "    model.x = Var(C, domain=NonNegativeReals)\n",
        "    model.cost = Objective(expr = sum(model.x[c]*data[c]['cost'] for c in C))\n",
        "    model.vol = Constraint(expr = vol == sum(model.x[c] for c in C))\n",
        "    model.abv = Constraint(expr = 0 == sum(model.x[c]*(data[c]['abv'] - abv) for c in C))\n",
        "\n",
        "    solver = SolverFactory('cbc')\n",
        "    solver.solve(model)\n",
        "\n",
        "    print('Optimal Blend')\n",
        "    for c in data.keys():\n",
        "        print('  ', c, ':', model.x[c](), 'gallons')\n",
        "    print()\n",
        "    print('Volume = ', model.vol(), 'gallons')\n",
        "    print('Cost = $', model.cost())\n",
        "    \n",
        "beer_blend(vol, abv, data)"
      ],
      "execution_count": 57,
      "outputs": [
        {
          "output_type": "stream",
          "text": [
            "Optimal Blend\n",
            "   Okhota : 37.5 gallons\n",
            "   Baltika : 62.5 gallons\n",
            "   Water : 0.0 gallons\n",
            "\n",
            "Volume =  100.0 gallons\n",
            "Cost = $ 27.625\n"
          ],
          "name": "stdout"
        }
      ]
    },
    {
      "cell_type": "markdown",
      "metadata": {
        "id": "_KIxYMgTQ0kH"
      },
      "source": [
        "## MIP: 🎒 Knapsack"
      ]
    },
    {
      "cell_type": "code",
      "metadata": {
        "colab": {
          "base_uri": "https://localhost:8080/"
        },
        "id": "mLgeztO4RNEk",
        "outputId": "8aafbbc1-85f0-4a34-aece-ff879ff3ba08"
      },
      "source": [
        "!pip install mip --quiet"
      ],
      "execution_count": 58,
      "outputs": [
        {
          "output_type": "stream",
          "text": [
            "\u001b[K     |████████████████████████████████| 48.0MB 95kB/s \n",
            "\u001b[?25h"
          ],
          "name": "stdout"
        }
      ]
    },
    {
      "cell_type": "markdown",
      "metadata": {
        "id": "XMDqEFyJRXZk"
      },
      "source": [
        "![wikipedia](https://upload.wikimedia.org/wikipedia/commons/f/fd/Knapsack.svg)\n",
        "\n",
        "As a first example, consider the solution of the 0/1 knapsack problem: given a set $I$ of items, each one with a weight $w_i$ and estimated profit $p_i$, one wants to select a subset with maximum profit such that the summation of the weights of the selected items is less or equal to the knapsack capacity $c$. Considering a set of decision binary variables $x_i$ that receive value $1$ if the $i$-th item is selected, or $0$ if not, the resulting mathematical programming formulation is:\n",
        "\n",
        "\\begin{split}\n",
        "\\textrm{Maximize: }   &  \\\\\n",
        "                               &  \\sum_{i \\in I} p_i \\cdot x_i  \\\\\n",
        "\\textrm{Subject to: } & \\\\\n",
        "                               &  \\sum_{i \\in I} w_i \\cdot x_i \\leq c  \\\\\n",
        "                               &  x_i \\in \\{0,1\\} \\,\\,\\, \\forall i \\in I\n",
        "\\end{split}\n",
        "\n"
      ]
    },
    {
      "cell_type": "code",
      "metadata": {
        "colab": {
          "base_uri": "https://localhost:8080/"
        },
        "id": "KJOyEyXARP5v",
        "outputId": "af885768-c27f-48a4-fd60-46d7ce72f676"
      },
      "source": [
        "from mip import Model, xsum, maximize, BINARY\n",
        "\n",
        "p = [10, 13, 18, 31, 7, 15]\n",
        "w = [11, 15, 20, 35, 10, 33]\n",
        "c, I = 47, range(len(w))\n",
        "\n",
        "m = Model(\"knapsack\")\n",
        "\n",
        "x = [m.add_var(var_type=BINARY) for i in I]\n",
        "\n",
        "m.objective = maximize(xsum(p[i] * x[i] for i in I))\n",
        "\n",
        "m += xsum(w[i] * x[i] for i in I) <= c\n",
        "\n",
        "m.optimize()\n",
        "\n",
        "selected = [i for i in I if x[i].x >= 0.99]\n",
        "print(\"selected items: {}\".format(selected))"
      ],
      "execution_count": 59,
      "outputs": [
        {
          "output_type": "stream",
          "text": [
            "selected items: [0, 3]\n"
          ],
          "name": "stdout"
        }
      ]
    },
    {
      "cell_type": "markdown",
      "metadata": {
        "id": "m6quQ5xPvk3p"
      },
      "source": [
        "# Exercises\n"
      ]
    },
    {
      "cell_type": "markdown",
      "metadata": {
        "id": "WQZXrP32zpnT"
      },
      "source": [
        "## Task 1. 📱🎧💻 Covers manufacturing"
      ]
    },
    {
      "cell_type": "markdown",
      "metadata": {
        "id": "DCl_C7L1znrM"
      },
      "source": [
        "Random Corp is producing covers for following products: \n",
        "* 📱 phones\n",
        "* 🎧 headphones\n",
        "* 💻 laptops\n",
        "\n",
        "The company’s production facilities are such that if we devote the entire production to headphones covers, we can produce 5000 of them in one day. If we devote the entire production to phone covers or laptop covers, we can produce 4000 or 2000 of them in one day. \n",
        "\n",
        "The production schedule is one week (6 working days), and the week’s production must be stored before distribution. Storing 1000 headphones covers (packaging included) takes up 30 cubic feet of space. Storing 1000 phone covers (packaging included) takes up 50 cubic feet of space, and storing 1000 laptop covers (packaging included) takes up 220 cubic feet of space. The total storage space available is 6000 cubic feet. \n",
        "\n",
        "Due to commercial agreements with Random Corp has to deliver at least 4500 headphones covers and 3000 laptop covers per week in order to strengthen the product’s diffusion. \n",
        "\n",
        "The marketing department estimates that the weekly demand for headphones covers, phone, and laptop covers does not exceed 9000 and 14000, and 7000 units, therefore the company does not want to produce more than these amounts for headphones, phone, and laptop covers. \n",
        "\n",
        "Finally, the net profit per each headphones cover, phone cover, and laptop cover is \\$5, \\$7, and \\$12, respectively.\n",
        "\n",
        "The aim is to determine a weekly production schedule that maximizes the total net profit."
      ]
    },
    {
      "cell_type": "markdown",
      "metadata": {
        "id": "X6_iWRM_z8ke"
      },
      "source": [
        "Write a Linear Programming formulation for the problem.\tUse following variables:\n",
        "\n",
        "y1 = number of headphones covers produced over the week,  \n",
        "y2 = number of phone covers produced over the week,  \n",
        "y3 = number of laptop covers produced over the week.  \n"
      ]
    },
    {
      "cell_type": "markdown",
      "metadata": {
        "id": "R-xSApEn0VXb"
      },
      "source": [
        "<font color=\"lime\"> ==YOUR ANSWER== </font>"
      ]
    },
    {
      "cell_type": "markdown",
      "metadata": {
        "id": "eAni9iJr0Wr8"
      },
      "source": [
        "Find the solution to the problem using `PuLP`\n"
      ]
    },
    {
      "cell_type": "code",
      "metadata": {
        "id": "vfQsGLGyOAM9"
      },
      "source": [
        "!pip install pulp --quiet\n",
        "! sudo apt-get install glpk-utils --quiet  # GLPK\n",
        "! sudo apt-get install coinor-cbc --quiet  # CoinOR"
      ],
      "execution_count": null,
      "outputs": []
    },
    {
      "cell_type": "code",
      "metadata": {
        "id": "YrzhBke_kjbk"
      },
      "source": [
        "### YOUR CODE"
      ],
      "execution_count": null,
      "outputs": []
    },
    {
      "cell_type": "markdown",
      "metadata": {
        "id": "s_aQ-rtVzrHo"
      },
      "source": [
        "## Task 2. 👑 N queens puzzle"
      ]
    },
    {
      "cell_type": "markdown",
      "metadata": {
        "id": "iv_HR_RziEzk"
      },
      "source": [
        "![](https://fmin.xyz/docs/methods/zom/queens.svg)\n",
        "\n",
        "In the n-queens puzzle n chess queens should to be placed in a board with n×n cells in a way that no queen can attack another, i.e., there must be at most one queen per row, column and diagonal. This is a constraint satisfaction problem: any feasible solution is acceptable and no objective function is defined.\n",
        "\n",
        "Formulate this task and solve using `mip`"
      ]
    },
    {
      "cell_type": "markdown",
      "metadata": {
        "id": "1ZvnNvb-kmcc"
      },
      "source": [
        "<font color=\"lime\"> ==YOUR FORMULATION== </font>"
      ]
    },
    {
      "cell_type": "code",
      "metadata": {
        "id": "vbj80H71iIn-"
      },
      "source": [
        "!pip install mip --quiet"
      ],
      "execution_count": null,
      "outputs": []
    },
    {
      "cell_type": "code",
      "metadata": {
        "id": "dqmFqotjmXlN"
      },
      "source": [
        "from mip import Model, xsum, BINARY"
      ],
      "execution_count": null,
      "outputs": []
    },
    {
      "cell_type": "markdown",
      "metadata": {
        "id": "oyJexQ1pmPs_"
      },
      "source": [
        "To create problem one use `mip.Model`"
      ]
    },
    {
      "cell_type": "code",
      "metadata": {
        "id": "7yciS9pJmWOq"
      },
      "source": [
        "queens = Model()"
      ],
      "execution_count": null,
      "outputs": []
    },
    {
      "cell_type": "markdown",
      "metadata": {
        "id": "_UPEkkN2mbMY"
      },
      "source": [
        "To add variables we use `Model().add_var()`"
      ]
    },
    {
      "cell_type": "code",
      "metadata": {
        "id": "zdLtVEA1m7zM"
      },
      "source": [
        "x = [[queens.add_var('x({},{})'.format(i, j), var_type=BINARY)\n",
        "      for j in range(n)] for i in range(n)]"
      ],
      "execution_count": null,
      "outputs": []
    },
    {
      "cell_type": "markdown",
      "metadata": {
        "id": "fPGcyhkFntiN"
      },
      "source": [
        "To add constraint we use same interface as in `PuLP`"
      ]
    },
    {
      "cell_type": "code",
      "metadata": {
        "id": "bfFVc9yvnAbx"
      },
      "source": [
        "#Constraint for one in row\n",
        "\n",
        "for i in range(n):\n",
        "    queens += xsum(x[i][j] for j in range(n)) == 1, 'row({})'.format(i)"
      ],
      "execution_count": null,
      "outputs": []
    },
    {
      "cell_type": "code",
      "metadata": {
        "id": "DF6USx4RnAuY"
      },
      "source": [
        "# Constraint for less than one on the diagonal\n",
        "for p, k in enumerate(range(2 - n, n - 2 + 1)):\n",
        "    queens += xsum(x[i][i - k] for i in range(n)\n",
        "                   if 0 <= i - k < n) <= 1, 'diag1({})'.format(p)"
      ],
      "execution_count": null,
      "outputs": []
    },
    {
      "cell_type": "markdown",
      "metadata": {
        "id": "Nx6knPH8oATN"
      },
      "source": [
        "Your task is to add constaint for column and the other diagonal. Then use `queens.optimize()` to find solution. After that, try to visualize gained checkerboard"
      ]
    },
    {
      "cell_type": "code",
      "metadata": {
        "id": "_Nr97YaeoVHt"
      },
      "source": [
        "### YOUR CODE"
      ],
      "execution_count": null,
      "outputs": []
    },
    {
      "cell_type": "code",
      "metadata": {
        "id": "UMO9BQXeksba"
      },
      "source": [
        "### Visualization of solution"
      ],
      "execution_count": null,
      "outputs": []
    },
    {
      "cell_type": "markdown",
      "metadata": {
        "id": "mZm_34JhzsGw"
      },
      "source": [
        "## Task 3 🚧 Idea of barrier methods"
      ]
    },
    {
      "cell_type": "markdown",
      "metadata": {
        "hidden": true,
        "id": "9kbpSCVf1vVZ"
      },
      "source": [
        "The idea of barrier methods is quite simple: let us replace the conditional optimization problem with a sequence of modified unconstrainted optimization problems that converge to the original problem. Let us consider a simple example of such a problem:\n",
        "\n",
        "$$\n",
        "\\begin{split}\n",
        "\\min_{x \\in \\mathbb{R}^n} & \\ c^\\top x \\\\\n",
        "Ax & \\leq b\n",
        "\\end{split}\n",
        "$$\n",
        "\n",
        "Substitute original problem with a following problem:\n",
        "\n",
        "$$\n",
        "\\min_{x \\in \\mathbb{R}^n}  c^\\top x + \\frac{1}{t} \\sum\\limits_{i=1}^m \\left[ -\\ln\\left(-(a_i^\\top x - b_i)\\right) \\right]\n",
        "$$\n",
        "\n",
        "In essence, all constraints like inequalities are incorporated into the target function as **barrier functions** using (for example) a logarithmic barrier $-\\ln{-h(x)}$ при $t \\to \\infty$ (picture below)"
      ]
    },
    {
      "cell_type": "code",
      "metadata": {
        "hidden": true,
        "id": "FQd8JAgJ1vVZ",
        "colab": {
          "base_uri": "https://localhost:8080/",
          "height": 445
        },
        "outputId": "ee32e76d-f6db-4f0b-b556-7a08e585eb81"
      },
      "source": [
        "import numpy as np\n",
        "from matplotlib import pyplot as plt\n",
        "import seaborn as sns\n",
        "from scipy.optimize import linprog\n",
        "sns.set()\n",
        "\n",
        "t = np.linspace(2,14, 4)\n",
        "\n",
        "for t_ in t:\n",
        "    x = np.linspace(-1.5, 0.0, int(20*t_))\n",
        "    y = -np.log(-x)\n",
        "    plt.plot(x,y/t_, label = f't = {t_:.2f}')\n",
        "\n",
        "plt.title(f'Log barrier function become an indicator with $t \\\\to \\infty$')\n",
        "plt.ylabel(f'$-\\ln(-h(x))$')\n",
        "plt.xlabel(f'$x$')\n",
        "plt.legend()\n",
        "plt.show()"
      ],
      "execution_count": null,
      "outputs": [
        {
          "output_type": "stream",
          "text": [
            "/usr/local/lib/python3.6/dist-packages/ipykernel_launcher.py:11: RuntimeWarning: divide by zero encountered in log\n",
            "  # This is added back by InteractiveShellApp.init_path()\n",
            "/usr/local/lib/python3.6/dist-packages/ipykernel_launcher.py:11: RuntimeWarning: divide by zero encountered in log\n",
            "  # This is added back by InteractiveShellApp.init_path()\n",
            "/usr/local/lib/python3.6/dist-packages/ipykernel_launcher.py:11: RuntimeWarning: divide by zero encountered in log\n",
            "  # This is added back by InteractiveShellApp.init_path()\n",
            "/usr/local/lib/python3.6/dist-packages/ipykernel_launcher.py:11: RuntimeWarning: divide by zero encountered in log\n",
            "  # This is added back by InteractiveShellApp.init_path()\n"
          ],
          "name": "stderr"
        },
        {
          "output_type": "display_data",
          "data": {
            "image/png": "[encoded data removed]",
            "text/plain": [
              "<Figure size 432x288 with 1 Axes>"
            ]
          },
          "metadata": {
            "tags": []
          }
        }
      ]
    },
    {
      "cell_type": "markdown",
      "metadata": {
        "hidden": true,
        "id": "InOqUJys1vVZ"
      },
      "source": [
        "Thus, sequences of auxiliary problems are formed in which the barrier function adds almost nothing to the original function, but starts to penalize noticeably as it approaches the boundary of the feasible set. \n",
        "\n",
        "The algorithm can be formulated as follows:\n",
        "* $t = t_0 >0$, $x_0 \\in S$ - correct initialization\n",
        "\n",
        "For $\\mu > 1$ and $k = 1,2,3,\\ldots$\n",
        "\n",
        "* Optimization step $t_k f(x_k) + \\varphi(x_k)$ $\\to x_{k+1}$\n",
        "* if $\\frac{m}{t} \\leq \\varepsilon$ - break for loop\n",
        "* Increase $t$: $t_{k+1} = \\mu t_k$"
      ]
    },
    {
      "cell_type": "markdown",
      "metadata": {
        "hidden": true,
        "id": "zkxWTzWe1vVZ"
      },
      "source": [
        "Plot the number of iterations needed to achieve $\\varepsilon = 10^{-8}$ accuracy for $n=50, m = 100$, depending on the value of $\\mu$.\n",
        "\n",
        "Consider Newton's method for the target function with fixed step or damped Newton's method. (At [link](https://statweb.stanford.edu/~candes/teaching/acm113/Handouts/sumt.pdf) a Matlab code for the problem is available, you can look into it and understand how to do this problem.)\n",
        "\n",
        "Consider values $\\mu$ on range $[2, 1000]$ with function `mus = np.linspace(2,1000)`"
      ]
    },
    {
      "cell_type": "code",
      "metadata": {
        "id": "mmZHumFB1vVa"
      },
      "source": [
        "# Returns function value, gradient and hessian\n",
        "def barrier(x, A, b, t, c):\n",
        "    ### YOUR CODE\n",
        "    return f, g, H"
      ],
      "execution_count": null,
      "outputs": []
    },
    {
      "cell_type": "code",
      "metadata": {
        "id": "dwvWZkHN1vVa"
      },
      "source": [
        "# Generating problem\n",
        "\n",
        "np.random.seed(1)\n",
        "\n",
        "m = 100\n",
        "n = 50\n",
        "eps = 1e-8\n",
        "\n",
        "A = np.random.normal(size=[m, n])\n",
        "b = 1 + abs(np.random.normal(size=[m,1]))\n",
        "c = np.random.normal(size=(n,1))\n",
        "MAXITERS = 500\n",
        "BETA = .1\n",
        "ALPHA = .7"
      ],
      "execution_count": null,
      "outputs": []
    },
    {
      "cell_type": "code",
      "metadata": {
        "id": "Ivi3aRpsle7B",
        "colab": {
          "base_uri": "https://localhost:8080/"
        },
        "outputId": "189e7c55-d146-4cc4-fe88-fc524719a1f2"
      },
      "source": [
        "### Finding true solution with arbitrary linprog solver\n",
        "### YOUR CODE\n",
        "..."
      ],
      "execution_count": null,
      "outputs": [
        {
          "output_type": "execute_result",
          "data": {
            "text/plain": [
              "Ellipsis"
            ]
          },
          "metadata": {
            "tags": []
          },
          "execution_count": 148
        }
      ]
    },
    {
      "cell_type": "code",
      "metadata": {
        "id": "7pXSIa-IluSV"
      },
      "source": [
        "### Optimization cycle"
      ],
      "execution_count": null,
      "outputs": []
    },
    {
      "cell_type": "code",
      "metadata": {
        "id": "FSIHz9ollyY9"
      },
      "source": [
        "### Visualization of gap"
      ],
      "execution_count": null,
      "outputs": []
    },
    {
      "cell_type": "code",
      "metadata": {
        "id": "Y8YwIG6Yl0hZ"
      },
      "source": [
        "### Visualization of dependencies of number iteration from \\mu"
      ],
      "execution_count": null,
      "outputs": []
    },
    {
      "cell_type": "code",
      "metadata": {
        "id": "pLTSVk1eTJGc"
      },
      "source": [
        ""
      ],
      "execution_count": null,
      "outputs": []
    }
  ]
}