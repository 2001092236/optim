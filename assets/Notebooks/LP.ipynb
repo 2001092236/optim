{
 "cells": [
  {
   "cell_type": "markdown",
   "metadata": {},
   "source": [
    "# Linear programming"
   ]
  },
  {
   "cell_type": "markdown",
   "metadata": {},
   "source": [
    "## LP in scipy"
   ]
  },
  {
   "cell_type": "code",
   "execution_count": null,
   "metadata": {},
   "outputs": [],
   "source": [
    "from scipy.optimize import linprog"
   ]
  },
  {
   "cell_type": "markdown",
   "metadata": {},
   "source": [
    "$$\n",
    "\\begin{align*}\n",
    "&\\min_x c^{\\top}x \\\\\n",
    "\\text{s.t. } & Ax \\leq b\\\\\n",
    "x_2 \\geq -3, \\qquad &A = \\begin{pmatrix}\n",
    "    -3       & 1\\\\\n",
    "    1      & 2\n",
    "\\end{pmatrix} \\qquad b = \\begin{pmatrix} 6 \\\\ 4\\end{pmatrix}\n",
    "\\end{align*}\n",
    "$$"
   ]
  },
  {
   "cell_type": "code",
   "execution_count": null,
   "metadata": {},
   "outputs": [],
   "source": [
    "c = [-1, 4]\n",
    "A = [[-3, 1], [1, 2]]\n",
    "b = [6, 4]\n",
    "x0_bounds = (None, None)\n",
    "x1_bounds = (-3, None)\n",
    "from scipy.optimize import linprog\n",
    "res = linprog(c, A_ub=A, b_ub=b, bounds=(x0_bounds, x1_bounds),\n",
    "              options={\"disp\": True})\n",
    "\n",
    "print(res)"
   ]
  },
  {
   "cell_type": "markdown",
   "metadata": {},
   "source": [
    "If you want to build tableaus quickly 😀"
   ]
  },
  {
   "cell_type": "code",
   "execution_count": null,
   "metadata": {},
   "outputs": [],
   "source": [
    "import scipy\n",
    "\n",
    "c = [-1, 4]\n",
    "A = [[-3, 1], [1, 2]]\n",
    "b = [6, 4]\n",
    "x0_bounds = (None, None)\n",
    "x1_bounds = (-3, None)\n",
    "from scipy.optimize import linprog\n",
    "res = linprog(c, A_ub=A, b_ub=b, bounds=(x0_bounds, x1_bounds),\n",
    "              options={\"disp\": True}, callback=scipy.optimize.linprog_verbose_callback)"
   ]
  },
  {
   "cell_type": "markdown",
   "metadata": {},
   "source": [
    "## Klee, Minty example, when simplex works slow"
   ]
  },
  {
   "cell_type": "code",
   "execution_count": 8,
   "metadata": {},
   "outputs": [],
   "source": [
    "%matplotlib inline\n",
    "import numpy as np\n",
    "from matplotlib import pyplot as plt\n",
    "from scipy.optimize import linprog\n",
    "import seaborn as sns\n",
    "sns.set()\n",
    "\n",
    "def generate_KleeMinty_test_problem(n):\n",
    "    c = np.array([2**i for i in range(n)])\n",
    "    c = c[::-1]\n",
    "    bounds = [(0, None) for i in range(n)]\n",
    "    b = np.array([5**(i+1) for i in range(n)])\n",
    "    a = np.array([1] + [2**(i+1) for i in range(1, n)])\n",
    "    A = np.zeros((n, n))\n",
    "    for i in range(n):\n",
    "        A[i:, i] = a[:n-i]\n",
    "    return -c, A, b, bounds\n",
    "\n",
    "def generate_random_LP_problem(n):\n",
    "    c = np.random.rand(n)\n",
    "    A = np.random.rand(n,n)\n",
    "    b = np.random.rand(n)\n",
    "    bounds = []\n",
    "    for i in range(n):\n",
    "        bound = (-np.random.rand(1), np.random.rand(1))\n",
    "        bounds.append(bound)\n",
    "    return c, A, b, bounds"
   ]
  },
  {
   "cell_type": "code",
   "execution_count": 4,
   "metadata": {},
   "outputs": [
    {
     "name": "stdout",
     "output_type": "stream",
     "text": [
      "[-16  -8  -4  -2  -1]\n",
      "[[ 1.  0.  0.  0.  0.]\n",
      " [ 4.  1.  0.  0.  0.]\n",
      " [ 8.  4.  1.  0.  0.]\n",
      " [16.  8.  4.  1.  0.]\n",
      " [32. 16.  8.  4.  1.]]\n",
      "[   5   25  125  625 3125]\n",
      "[(0, None), (0, None), (0, None), (0, None), (0, None)]\n"
     ]
    }
   ],
   "source": [
    "n = 5\n",
    "c, A, b, bounds = generate_KleeMinty_test_problem(n)\n",
    "print(c)\n",
    "print(A) \n",
    "print(b)\n",
    "print(bounds)"
   ]
  },
  {
   "cell_type": "code",
   "execution_count": 22,
   "metadata": {},
   "outputs": [
    {
     "name": "stdout",
     "output_type": "stream",
     "text": [
      "2.96 ms ± 67.5 µs per loop (mean ± std. dev. of 7 runs, 1000 loops each)\n",
      "2.97 ms ± 51.3 µs per loop (mean ± std. dev. of 7 runs, 1000 loops each)\n",
      "3.76 ms ± 280 µs per loop (mean ± std. dev. of 7 runs, 1000 loops each)\n",
      "2.53 ms ± 77.7 µs per loop (mean ± std. dev. of 7 runs, 1000 loops each)\n",
      "3.98 ms ± 40.8 µs per loop (mean ± std. dev. of 7 runs, 1000 loops each)\n",
      "2.55 ms ± 91.9 µs per loop (mean ± std. dev. of 7 runs, 1000 loops each)\n",
      "4.41 ms ± 52.3 µs per loop (mean ± std. dev. of 7 runs, 1000 loops each)\n",
      "3.27 ms ± 195 µs per loop (mean ± std. dev. of 7 runs, 1000 loops each)\n",
      "6.53 ms ± 128 µs per loop (mean ± std. dev. of 7 runs, 1000 loops each)\n",
      "3.63 ms ± 72.3 µs per loop (mean ± std. dev. of 7 runs, 1000 loops each)\n",
      "7.67 ms ± 694 µs per loop (mean ± std. dev. of 7 runs, 1000 loops each)\n",
      "3.05 ms ± 86.3 µs per loop (mean ± std. dev. of 7 runs, 1000 loops each)\n",
      "7.59 ms ± 349 µs per loop (mean ± std. dev. of 7 runs, 1000 loops each)\n",
      "3.21 ms ± 165 µs per loop (mean ± std. dev. of 7 runs, 1000 loops each)\n",
      "8.76 ms ± 488 µs per loop (mean ± std. dev. of 7 runs, 1000 loops each)\n",
      "3.97 ms ± 452 µs per loop (mean ± std. dev. of 7 runs, 1000 loops each)\n",
      "10.4 ms ± 816 µs per loop (mean ± std. dev. of 7 runs, 1000 loops each)\n",
      "3.16 ms ± 49.8 µs per loop (mean ± std. dev. of 7 runs, 1000 loops each)\n",
      "9.56 ms ± 154 µs per loop (mean ± std. dev. of 7 runs, 1000 loops each)\n",
      "3.69 ms ± 54.4 µs per loop (mean ± std. dev. of 7 runs, 1000 loops each)\n",
      "10.6 ms ± 136 µs per loop (mean ± std. dev. of 7 runs, 1000 loops each)\n",
      "4.83 ms ± 198 µs per loop (mean ± std. dev. of 7 runs, 1000 loops each)\n"
     ]
    },
    {
     "data": {
      "image/png": "[encoded data removed]",
      "text/plain": [
       "<Figure size 432x288 with 1 Axes>"
      ]
     },
     "metadata": {},
     "output_type": "display_data"
    }
   ],
   "source": [
    "n_list = range(2, 13)\n",
    "\n",
    "n_iters_km = np.zeros(len(n_list))\n",
    "times_km   = np.zeros(len(n_list))\n",
    "n_iters_r  = np.zeros(len(n_list))\n",
    "times_r    = np.zeros(len(n_list))\n",
    "\n",
    "for i, n in enumerate(n_list):\n",
    "    c, A, b, bounds = generate_KleeMinty_test_problem(n)\n",
    "    res = linprog(c, A, b, bounds=bounds, options={\"maxiter\": 2**max(n_list)})\n",
    "    time = %timeit -o -n 1000 linprog(c, A, b, bounds=bounds, options={\"maxiter\": 2**max(n_list) + 1})\n",
    "    n_iters_km[i] = res.nit\n",
    "    times_km[i] = time.average\n",
    "\n",
    "    c, A, b, bounds = generate_random_LP_problem(n)\n",
    "    res = linprog(c, A, b, bounds=bounds, options={\"maxiter\": 2**max(n_list)})\n",
    "    time = %timeit -o -n 1000 linprog(c, A, b, bounds=bounds, options={\"maxiter\": 2**max(n_list) + 1})\n",
    "    n_iters_r[i] = res.nit\n",
    "    times_r[i] = time.average\n",
    "\n",
    "plt.semilogy(n_list, times_r, label='random LP')\n",
    "plt.semilogy(n_list, times_km, label = 'Klee Mity')\n",
    "plt.legend()\n",
    "plt.xlabel(\"Dimension, $n$\")\n",
    "plt.ylabel(\"Average computation time\")\n",
    "plt.show()"
   ]
  },
  {
   "cell_type": "markdown",
   "metadata": {},
   "source": [
    "## PuLP library example (Optimal watching TED talks)"
   ]
  },
  {
   "cell_type": "code",
   "execution_count": 23,
   "metadata": {},
   "outputs": [
    {
     "name": "stdout",
     "output_type": "stream",
     "text": [
      "Collecting pulp\n",
      "  Downloading https://files.pythonhosted.org/packages/41/34/757c88c320f80ce602199603afe63aed1e0bc11180b9a9fb6018fb2ce7ef/PuLP-2.1-py3-none-any.whl (40.6MB)\n",
      "Requirement already satisfied: pyparsing>=2.0.1 in c:\\programdata\\anaconda3\\lib\\site-packages (from pulp) (2.4.2)\n",
      "Installing collected packages: pulp\n",
      "Successfully installed pulp-2.1\n"
     ]
    }
   ],
   "source": [
    "!pip install pulp"
   ]
  },
  {
   "cell_type": "code",
   "execution_count": 78,
   "metadata": {},
   "outputs": [],
   "source": [
    "%matplotlib inline\n",
    " \n",
    "import pulp\n",
    "import numpy as np\n",
    "import pandas as pd\n",
    "import re\n",
    "import matplotlib.pyplot as plt\n",
    "from IPython.display import Image"
   ]
  },
  {
   "cell_type": "code",
   "execution_count": 79,
   "metadata": {},
   "outputs": [
    {
     "data": {
      "text/html": [
       "<div>\n",
       "<style scoped>\n",
       "    .dataframe tbody tr th:only-of-type {\n",
       "        vertical-align: middle;\n",
       "    }\n",
       "\n",
       "    .dataframe tbody tr th {\n",
       "        vertical-align: top;\n",
       "    }\n",
       "\n",
       "    .dataframe thead th {\n",
       "        text-align: right;\n",
       "    }\n",
       "</style>\n",
       "<table border=\"1\" class=\"dataframe\">\n",
       "  <thead>\n",
       "    <tr style=\"text-align: right;\">\n",
       "      <th></th>\n",
       "      <th>index</th>\n",
       "      <th>comments</th>\n",
       "      <th>description</th>\n",
       "      <th>duration</th>\n",
       "      <th>event</th>\n",
       "      <th>film_date</th>\n",
       "      <th>languages</th>\n",
       "      <th>main_speaker</th>\n",
       "      <th>name</th>\n",
       "      <th>num_speaker</th>\n",
       "      <th>published_date</th>\n",
       "      <th>ratings</th>\n",
       "      <th>related_talks</th>\n",
       "      <th>speaker_occupation</th>\n",
       "      <th>tags</th>\n",
       "      <th>title</th>\n",
       "      <th>url</th>\n",
       "      <th>views</th>\n",
       "    </tr>\n",
       "  </thead>\n",
       "  <tbody>\n",
       "    <tr>\n",
       "      <td>0</td>\n",
       "      <td>0</td>\n",
       "      <td>4553</td>\n",
       "      <td>Sir Ken Robinson makes an entertaining and pro...</td>\n",
       "      <td>19.4</td>\n",
       "      <td>TED2006</td>\n",
       "      <td>1140825600</td>\n",
       "      <td>60</td>\n",
       "      <td>Ken Robinson</td>\n",
       "      <td>Ken Robinson: Do schools kill creativity?</td>\n",
       "      <td>1</td>\n",
       "      <td>1151367060</td>\n",
       "      <td>[{'id': 7, 'name': 'Funny', 'count': 19645}, {...</td>\n",
       "      <td>[{'id': 865, 'hero': 'https://pe.tedcdn.com/im...</td>\n",
       "      <td>Author/educator</td>\n",
       "      <td>['children', 'creativity', 'culture', 'dance',...</td>\n",
       "      <td>Do schools kill creativity?</td>\n",
       "      <td>https://www.ted.com/talks/ken_robinson_says_sc...</td>\n",
       "      <td>47227110</td>\n",
       "    </tr>\n",
       "    <tr>\n",
       "      <td>1</td>\n",
       "      <td>1</td>\n",
       "      <td>265</td>\n",
       "      <td>With the same humor and humanity he exuded in ...</td>\n",
       "      <td>16.3</td>\n",
       "      <td>TED2006</td>\n",
       "      <td>1140825600</td>\n",
       "      <td>43</td>\n",
       "      <td>Al Gore</td>\n",
       "      <td>Al Gore: Averting the climate crisis</td>\n",
       "      <td>1</td>\n",
       "      <td>1151367060</td>\n",
       "      <td>[{'id': 7, 'name': 'Funny', 'count': 544}, {'i...</td>\n",
       "      <td>[{'id': 243, 'hero': 'https://pe.tedcdn.com/im...</td>\n",
       "      <td>Climate advocate</td>\n",
       "      <td>['alternative energy', 'cars', 'climate change...</td>\n",
       "      <td>Averting the climate crisis</td>\n",
       "      <td>https://www.ted.com/talks/al_gore_on_averting_...</td>\n",
       "      <td>3200520</td>\n",
       "    </tr>\n",
       "    <tr>\n",
       "      <td>2</td>\n",
       "      <td>2</td>\n",
       "      <td>124</td>\n",
       "      <td>New York Times columnist David Pogue takes aim...</td>\n",
       "      <td>21.4</td>\n",
       "      <td>TED2006</td>\n",
       "      <td>1140739200</td>\n",
       "      <td>26</td>\n",
       "      <td>David Pogue</td>\n",
       "      <td>David Pogue: Simplicity sells</td>\n",
       "      <td>1</td>\n",
       "      <td>1151367060</td>\n",
       "      <td>[{'id': 7, 'name': 'Funny', 'count': 964}, {'i...</td>\n",
       "      <td>[{'id': 1725, 'hero': 'https://pe.tedcdn.com/i...</td>\n",
       "      <td>Technology columnist</td>\n",
       "      <td>['computers', 'entertainment', 'interface desi...</td>\n",
       "      <td>Simplicity sells</td>\n",
       "      <td>https://www.ted.com/talks/david_pogue_says_sim...</td>\n",
       "      <td>1636292</td>\n",
       "    </tr>\n",
       "    <tr>\n",
       "      <td>3</td>\n",
       "      <td>3</td>\n",
       "      <td>200</td>\n",
       "      <td>In an emotionally charged talk, MacArthur-winn...</td>\n",
       "      <td>18.6</td>\n",
       "      <td>TED2006</td>\n",
       "      <td>1140912000</td>\n",
       "      <td>35</td>\n",
       "      <td>Majora Carter</td>\n",
       "      <td>Majora Carter: Greening the ghetto</td>\n",
       "      <td>1</td>\n",
       "      <td>1151367060</td>\n",
       "      <td>[{'id': 3, 'name': 'Courageous', 'count': 760}...</td>\n",
       "      <td>[{'id': 1041, 'hero': 'https://pe.tedcdn.com/i...</td>\n",
       "      <td>Activist for environmental justice</td>\n",
       "      <td>['MacArthur grant', 'activism', 'business', 'c...</td>\n",
       "      <td>Greening the ghetto</td>\n",
       "      <td>https://www.ted.com/talks/majora_carter_s_tale...</td>\n",
       "      <td>1697550</td>\n",
       "    </tr>\n",
       "    <tr>\n",
       "      <td>4</td>\n",
       "      <td>4</td>\n",
       "      <td>593</td>\n",
       "      <td>You've never seen data presented like this. Wi...</td>\n",
       "      <td>19.8</td>\n",
       "      <td>TED2006</td>\n",
       "      <td>1140566400</td>\n",
       "      <td>48</td>\n",
       "      <td>Hans Rosling</td>\n",
       "      <td>Hans Rosling: The best stats you've ever seen</td>\n",
       "      <td>1</td>\n",
       "      <td>1151440680</td>\n",
       "      <td>[{'id': 9, 'name': 'Ingenious', 'count': 3202}...</td>\n",
       "      <td>[{'id': 2056, 'hero': 'https://pe.tedcdn.com/i...</td>\n",
       "      <td>Global health expert; data visionary</td>\n",
       "      <td>['Africa', 'Asia', 'Google', 'demo', 'economic...</td>\n",
       "      <td>The best stats you've ever seen</td>\n",
       "      <td>https://www.ted.com/talks/hans_rosling_shows_t...</td>\n",
       "      <td>12005869</td>\n",
       "    </tr>\n",
       "  </tbody>\n",
       "</table>\n",
       "</div>"
      ],
      "text/plain": [
       "   index  comments                                        description  \\\n",
       "0      0      4553  Sir Ken Robinson makes an entertaining and pro...   \n",
       "1      1       265  With the same humor and humanity he exuded in ...   \n",
       "2      2       124  New York Times columnist David Pogue takes aim...   \n",
       "3      3       200  In an emotionally charged talk, MacArthur-winn...   \n",
       "4      4       593  You've never seen data presented like this. Wi...   \n",
       "\n",
       "   duration    event   film_date  languages   main_speaker  \\\n",
       "0      19.4  TED2006  1140825600         60   Ken Robinson   \n",
       "1      16.3  TED2006  1140825600         43        Al Gore   \n",
       "2      21.4  TED2006  1140739200         26    David Pogue   \n",
       "3      18.6  TED2006  1140912000         35  Majora Carter   \n",
       "4      19.8  TED2006  1140566400         48   Hans Rosling   \n",
       "\n",
       "                                            name  num_speaker  published_date  \\\n",
       "0      Ken Robinson: Do schools kill creativity?            1      1151367060   \n",
       "1           Al Gore: Averting the climate crisis            1      1151367060   \n",
       "2                  David Pogue: Simplicity sells            1      1151367060   \n",
       "3             Majora Carter: Greening the ghetto            1      1151367060   \n",
       "4  Hans Rosling: The best stats you've ever seen            1      1151440680   \n",
       "\n",
       "                                             ratings  \\\n",
       "0  [{'id': 7, 'name': 'Funny', 'count': 19645}, {...   \n",
       "1  [{'id': 7, 'name': 'Funny', 'count': 544}, {'i...   \n",
       "2  [{'id': 7, 'name': 'Funny', 'count': 964}, {'i...   \n",
       "3  [{'id': 3, 'name': 'Courageous', 'count': 760}...   \n",
       "4  [{'id': 9, 'name': 'Ingenious', 'count': 3202}...   \n",
       "\n",
       "                                       related_talks  \\\n",
       "0  [{'id': 865, 'hero': 'https://pe.tedcdn.com/im...   \n",
       "1  [{'id': 243, 'hero': 'https://pe.tedcdn.com/im...   \n",
       "2  [{'id': 1725, 'hero': 'https://pe.tedcdn.com/i...   \n",
       "3  [{'id': 1041, 'hero': 'https://pe.tedcdn.com/i...   \n",
       "4  [{'id': 2056, 'hero': 'https://pe.tedcdn.com/i...   \n",
       "\n",
       "                     speaker_occupation  \\\n",
       "0                       Author/educator   \n",
       "1                      Climate advocate   \n",
       "2                  Technology columnist   \n",
       "3    Activist for environmental justice   \n",
       "4  Global health expert; data visionary   \n",
       "\n",
       "                                                tags  \\\n",
       "0  ['children', 'creativity', 'culture', 'dance',...   \n",
       "1  ['alternative energy', 'cars', 'climate change...   \n",
       "2  ['computers', 'entertainment', 'interface desi...   \n",
       "3  ['MacArthur grant', 'activism', 'business', 'c...   \n",
       "4  ['Africa', 'Asia', 'Google', 'demo', 'economic...   \n",
       "\n",
       "                             title  \\\n",
       "0      Do schools kill creativity?   \n",
       "1      Averting the climate crisis   \n",
       "2                 Simplicity sells   \n",
       "3              Greening the ghetto   \n",
       "4  The best stats you've ever seen   \n",
       "\n",
       "                                                 url     views  \n",
       "0  https://www.ted.com/talks/ken_robinson_says_sc...  47227110  \n",
       "1  https://www.ted.com/talks/al_gore_on_averting_...   3200520  \n",
       "2  https://www.ted.com/talks/david_pogue_says_sim...   1636292  \n",
       "3  https://www.ted.com/talks/majora_carter_s_tale...   1697550  \n",
       "4  https://www.ted.com/talks/hans_rosling_shows_t...  12005869  "
      ]
     },
     "execution_count": 79,
     "metadata": {},
     "output_type": "execute_result"
    }
   ],
   "source": [
    "# Download the dataset from https://www.kaggle.com/rounakbanik/ted-talks\n",
    "\n",
    "# Read the dataset into pandas dataframe, convert duration from seconds to minutes\n",
    "ted = pd.read_csv('./ted_main.csv', encoding='ISO-8859-1')\n",
    "ted['duration'] = ted['duration'] / 60\n",
    "ted = ted.round({'duration': 1})\n",
    "\n",
    "# Select subset of columns & rows (if required)\n",
    "# data = ted.sample(n=1000) # 'n' can be changed as required\n",
    "data = ted\n",
    "selected_cols = ['name', 'event', 'duration', 'views']\n",
    "data.reset_index(inplace=True)\n",
    "data.head()"
   ]
  },
  {
   "cell_type": "code",
   "execution_count": 93,
   "metadata": {},
   "outputs": [],
   "source": [
    "# create LP object,\n",
    "# set up as a maximization problem --> since we want to maximize the number of TED talks to watch\n",
    "prob = pulp.LpProblem('WatchingTEDTalks', pulp.LpMaximize)"
   ]
  },
  {
   "cell_type": "code",
   "execution_count": 94,
   "metadata": {},
   "outputs": [
    {
     "name": "stdout",
     "output_type": "stream",
     "text": [
      "Total number of decision variables: 2550\n"
     ]
    }
   ],
   "source": [
    "# create decision - yes or no to watch the talk?\n",
    "decision_variables = []\n",
    "for rownum, row in data.iterrows():\n",
    "    variable = str('x' + str(row['index']))\n",
    "    variable = pulp.LpVariable(str(variable), lowBound = 0, upBound = 1, cat = 'Integer') # make variable binary\n",
    "    decision_variables.append(variable)\n",
    "    \n",
    "print('Total number of decision variables: ' + str(len(decision_variables)))"
   ]
  },
  {
   "cell_type": "code",
   "execution_count": 95,
   "metadata": {},
   "outputs": [],
   "source": [
    "# Create optimization Function\n",
    "total_views = ''\n",
    "for rownum, row in data.iterrows():\n",
    "    for i,talk in enumerate(decision_variables):\n",
    "        if rownum == i:\n",
    "            formula = row['views'] * talk\n",
    "            total_views += formula\n",
    "            \n",
    "prob += total_views\n",
    "# print('Optimization function: ' + str(total_views))"
   ]
  },
  {
   "cell_type": "code",
   "execution_count": 96,
   "metadata": {},
   "outputs": [],
   "source": [
    "# Contraints\n",
    "total_time_available_for_talks = 3*60 # Total time available is 10 hours . Converted to minutes\n",
    "total_talks_can_watch = 8 # Don't want an overload information"
   ]
  },
  {
   "cell_type": "code",
   "execution_count": 97,
   "metadata": {},
   "outputs": [],
   "source": [
    "# Create Constraint 1 - Time for talks\n",
    "total_time_talks = ''\n",
    "for rownum, row in data.iterrows():\n",
    "    for i,  talk in enumerate(decision_variables):\n",
    "        if rownum == i:\n",
    "            formula = row['duration']*talk\n",
    "            total_time_talks += formula\n",
    "            \n",
    "prob += (total_time_talks <= total_time_available_for_talks)"
   ]
  },
  {
   "cell_type": "code",
   "execution_count": 98,
   "metadata": {},
   "outputs": [],
   "source": [
    "# Create Constraint 2 - Number of talks\n",
    "total_talks = ''\n",
    "\n",
    "for rownum, row in data.iterrows():\n",
    "    for i, talk in enumerate(decision_variables):\n",
    "        if rownum == i:\n",
    "            formula = talk\n",
    "            total_talks += formula\n",
    "            \n",
    "prob += (total_talks == total_talks_can_watch)"
   ]
  },
  {
   "cell_type": "code",
   "execution_count": 99,
   "metadata": {},
   "outputs": [
    {
     "name": "stdout",
     "output_type": "stream",
     "text": [
      "🤔 The problem has successfully formulated\n"
     ]
    }
   ],
   "source": [
    "# Be careful, the output will be huge\n",
    "# print(prob)\n",
    "prob.writeLP('WatchingTEDTalks.lp')\n",
    "print('🤔 The problem has successfully formulated')"
   ]
  },
  {
   "cell_type": "code",
   "execution_count": 100,
   "metadata": {},
   "outputs": [
    {
     "name": "stdout",
     "output_type": "stream",
     "text": [
      "Status: Optimal\n",
      "Optimal Solution to the problem:  241601896.0\n",
      "Individual decision variables: \n",
      "x0 = 1.0\n",
      "x1346 = 1.0\n",
      "x1776 = 1.0\n",
      "x201 = 1.0\n",
      "x452 = 1.0\n",
      "x5 = 1.0\n",
      "x677 = 1.0\n",
      "x837 = 1.0\n"
     ]
    }
   ],
   "source": [
    "optimization_result = prob.solve()\n",
    "\n",
    "assert optimization_result == pulp.LpStatusOptimal\n",
    "print('Status:', pulp.LpStatus[prob.status])\n",
    "print('Optimal Solution to the problem: ', pulp.value(prob.objective))\n",
    "print('Individual decision variables: ')\n",
    "\n",
    "\n",
    "for v in prob.variables():\n",
    "    if v.varValue > 0:\n",
    "        print(v.name, '=', v.varValue)"
   ]
  },
  {
   "cell_type": "code",
   "execution_count": 101,
   "metadata": {},
   "outputs": [],
   "source": [
    "# reorder results\n",
    "variable_name = []\n",
    "variable_value = []\n",
    "\n",
    "for v in prob.variables():\n",
    "    variable_name.append(v.name)\n",
    "    variable_value.append(v.varValue)\n",
    "    \n",
    "df = pd.DataFrame({'index': variable_name, 'value': variable_value})\n",
    "for rownum, row in df.iterrows():\n",
    "    value = re.findall(r'(\\d+)', row['index'])\n",
    "    df.loc[rownum, 'index'] = int(value[0])\n",
    "    \n",
    "# df = df.sort_index(by = 'index')\n",
    "df = df.sort_values(by = 'index')\n",
    "result = pd.merge(data, df, on = 'index')\n",
    "result = result[result['value'] == 1].sort_values(by = 'views', ascending = False)\n",
    "selected_cols_final = ['name', 'event', 'duration', 'views']\n",
    "final_set_of_talks_to_watch = result[selected_cols_final]"
   ]
  },
  {
   "cell_type": "code",
   "execution_count": 102,
   "metadata": {},
   "outputs": [
    {
     "data": {
      "text/html": [
       "<table border=\"1\" class=\"dataframe\">\n",
       "  <thead>\n",
       "    <tr style=\"text-align: right;\">\n",
       "      <th>name</th>\n",
       "      <th>event</th>\n",
       "      <th>duration</th>\n",
       "      <th>views</th>\n",
       "    </tr>\n",
       "  </thead>\n",
       "  <tbody>\n",
       "    <tr>\n",
       "      <td>Ken Robinson: Do schools kill creativity?</td>\n",
       "      <td>TED2006</td>\n",
       "      <td>19.4</td>\n",
       "      <td>47227110</td>\n",
       "    </tr>\n",
       "    <tr>\n",
       "      <td>Amy Cuddy: Your body language may shape who you are</td>\n",
       "      <td>TEDGlobal 2012</td>\n",
       "      <td>21.0</td>\n",
       "      <td>43155405</td>\n",
       "    </tr>\n",
       "    <tr>\n",
       "      <td>Simon Sinek: How great leaders inspire action</td>\n",
       "      <td>TEDxPuget Sound</td>\n",
       "      <td>18.1</td>\n",
       "      <td>34309432</td>\n",
       "    </tr>\n",
       "    <tr>\n",
       "      <td>BrenÃ© Brown: The power of vulnerability</td>\n",
       "      <td>TEDxHouston</td>\n",
       "      <td>20.3</td>\n",
       "      <td>31168150</td>\n",
       "    </tr>\n",
       "    <tr>\n",
       "      <td>Mary Roach: 10 things you didn't know about orgasm</td>\n",
       "      <td>TED2009</td>\n",
       "      <td>16.7</td>\n",
       "      <td>22270883</td>\n",
       "    </tr>\n",
       "    <tr>\n",
       "      <td>Julian Treasure: How to speak so that people want to listen</td>\n",
       "      <td>TEDGlobal 2013</td>\n",
       "      <td>10.0</td>\n",
       "      <td>21594632</td>\n",
       "    </tr>\n",
       "    <tr>\n",
       "      <td>Jill Bolte Taylor: My stroke of insight</td>\n",
       "      <td>TED2008</td>\n",
       "      <td>18.3</td>\n",
       "      <td>21190883</td>\n",
       "    </tr>\n",
       "    <tr>\n",
       "      <td>Tony Robbins: Why we do what we do</td>\n",
       "      <td>TED2006</td>\n",
       "      <td>21.8</td>\n",
       "      <td>20685401</td>\n",
       "    </tr>\n",
       "  </tbody>\n",
       "</table>"
      ],
      "text/plain": [
       "<IPython.core.display.HTML object>"
      ]
     },
     "metadata": {},
     "output_type": "display_data"
    }
   ],
   "source": [
    "from IPython.display import display, HTML\n",
    "display(HTML(final_set_of_talks_to_watch.to_html(index=False)))"
   ]
  }
 ],
 "metadata": {
  "colab": {
   "name": "CG.ipynb",
   "provenance": []
  },
  "kernelspec": {
   "display_name": "Python 3",
   "language": "python",
   "name": "python3"
  },
  "language_info": {
   "codemirror_mode": {
    "name": "ipython",
    "version": 3
   },
   "file_extension": ".py",
   "mimetype": "text/x-python",
   "name": "python",
   "nbconvert_exporter": "python",
   "pygments_lexer": "ipython3",
   "version": "3.7.4"
  },
  "toc": {
   "base_numbering": 1,
   "nav_menu": {},
   "number_sections": true,
   "sideBar": true,
   "skip_h1_title": false,
   "title_cell": "Table of Contents",
   "title_sidebar": "Contents",
   "toc_cell": false,
   "toc_position": {},
   "toc_section_display": true,
   "toc_window_display": false
  }
 },
 "nbformat": 4,
 "nbformat_minor": 1
}
