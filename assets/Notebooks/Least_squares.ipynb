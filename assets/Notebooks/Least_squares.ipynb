{
 "cells": [
  {
   "cell_type": "markdown",
   "metadata": {
    "colab_type": "text",
    "id": "sKehYFwVVElv"
   },
   "source": [
    "# CVXPY approach"
   ]
  },
  {
   "cell_type": "code",
   "execution_count": 2,
   "metadata": {
    "colab": {
     "base_uri": "https://localhost:8080/",
     "height": 571
    },
    "colab_type": "code",
    "executionInfo": {
     "elapsed": 992,
     "status": "ok",
     "timestamp": 1567585688558,
     "user": {
      "displayName": "bratishka mipt",
      "photoUrl": "https://lh3.googleusercontent.com/a-/AAuE7mBAUub0WXsyn4z2jHLI6zDgl-4Zx4vBBGMls8lfZA=s64",
      "userId": "17142413044964926720"
     },
     "user_tz": -180
    },
    "id": "kg06dVOtXCGa",
    "outputId": "3d4e495b-488c-4c88-8b3c-c00a522d9db7"
   },
   "outputs": [
    {
     "name": "stdout",
     "output_type": "stream",
     "text": [
      "\n",
      "The optimal value is 68.69421967152029\n",
      "The optimal theta is\n",
      "[ 0.00222757 -0.04426313 -0.01188268  0.14042236 -0.11235377  0.03640303\n",
      " -0.21749808 -0.09374076 -0.14666616 -0.00650745  0.00136044 -0.05821716\n",
      "  0.30766668  0.1549531  -0.09374016  0.20595234 -0.09570512 -0.08750232\n",
      " -0.03600092  0.14407635  0.12238927 -0.04667068 -0.19102953 -0.24369522\n",
      " -0.01476296  0.05230506  0.11845806  0.13807033  0.09313426  0.08909073\n",
      " -0.07575201  0.02977349 -0.03021938 -0.05046058  0.12626573  0.08643331\n",
      "  0.14562448  0.18174805  0.25500649 -0.12166898 -0.03595046 -0.06742598\n",
      " -0.05171714  0.17596708  0.12338568  0.05939913 -0.01636759 -0.33212826\n",
      "  0.45016646  0.05446244  0.1655614  -0.09972016 -0.07974855 -0.23842155\n",
      " -0.0137969  -0.13495874  0.05146296  0.02771051 -0.01189323 -0.07512697\n",
      " -0.21020137  0.10224506 -0.29530639  0.12007457 -0.00305177 -0.05635925\n",
      "  0.12119773  0.10144352  0.18006111  0.18257559 -0.05731089  0.18862363\n",
      " -0.20968091 -0.03321245 -0.1928243  -0.01140871 -0.16041927  0.07881591\n",
      "  0.08512089 -0.20137112  0.31256739 -0.09255539 -0.02584424  0.02111611\n",
      "  0.14564209  0.30630389  0.25897656  0.1162013   0.1060239   0.2551845\n",
      " -0.02892881  0.07143325 -0.16656225  0.20402252  0.31853543 -0.15472106\n",
      " -0.20284078  0.12264724 -0.0649747   0.05661852  0.10756965 -0.05381238\n",
      " -0.15100013  0.38192767  0.03068347 -0.11347669 -0.01141743 -0.1062349\n",
      " -0.03662441  0.07201558 -0.01867894 -0.02480682  0.19416933 -0.13019353\n",
      "  0.03388429  0.12946477 -0.2066126  -0.0587394  -0.18450332 -0.0768596\n",
      " -0.0037063   0.19930174  0.15587567  0.14963654 -0.22001208  0.13164493\n",
      " -0.14685151 -0.04351264  0.0520262   0.05972824  0.06805268 -0.04522122\n",
      "  0.18025494 -0.16538642  0.16367814  0.21599685 -0.17032373  0.15768922\n",
      "  0.08199387 -0.01926601  0.0765314  -0.14300027 -0.3240429   0.06926848\n",
      "  0.04183768  0.07813684 -0.06471343 -0.03121071 -0.02006774 -0.0773051 ]\n",
      "The norm of the residual is  8.288197612962682\n"
     ]
    }
   ],
   "source": [
    "# Import packages.\n",
    "import cvxpy as cp\n",
    "import numpy as np\n",
    "\n",
    "# Generate data.\n",
    "m = 200\n",
    "n = 150\n",
    "np.random.seed(1)\n",
    "X = np.random.randn(m, n)\n",
    "y = np.random.randn(m)\n",
    "\n",
    "# Define and solve the CVXPY problem.\n",
    "theta = cp.Variable(n)\n",
    "cost = cp.sum_squares(X*theta - y)\n",
    "prob = cp.Problem(cp.Minimize(cost))\n",
    "\n",
    "prob.solve()\n",
    "# Print result.\n",
    "print(\"\\nThe optimal value is\", prob.value)\n",
    "print(\"The optimal theta is\")\n",
    "print(theta.value)\n",
    "print(\"The norm of the residual is \", cp.norm(X*theta - y, p=2).value)"
   ]
  },
  {
   "cell_type": "markdown",
   "metadata": {
    "colab_type": "text",
    "id": "di2o7ALKVIae"
   },
   "source": [
    "# Exact solution"
   ]
  },
  {
   "cell_type": "code",
   "execution_count": 3,
   "metadata": {
    "colab": {
     "base_uri": "https://localhost:8080/",
     "height": 533
    },
    "colab_type": "code",
    "executionInfo": {
     "elapsed": 766,
     "status": "ok",
     "timestamp": 1567585713244,
     "user": {
      "displayName": "bratishka mipt",
      "photoUrl": "https://lh3.googleusercontent.com/a-/AAuE7mBAUub0WXsyn4z2jHLI6zDgl-4Zx4vBBGMls8lfZA=s64",
      "userId": "17142413044964926720"
     },
     "user_tz": -180
    },
    "id": "a77LnsqpGx1K",
    "outputId": "87820bf7-7f70-44e0-d475-bddb107de1d9"
   },
   "outputs": [
    {
     "name": "stdout",
     "output_type": "stream",
     "text": [
      "The optimal theta is\n",
      "[ 0.00222757 -0.04426313 -0.01188268  0.14042236 -0.11235377  0.03640303\n",
      " -0.21749808 -0.09374076 -0.14666616 -0.00650745  0.00136044 -0.05821716\n",
      "  0.30766668  0.1549531  -0.09374016  0.20595234 -0.09570512 -0.08750232\n",
      " -0.03600092  0.14407635  0.12238927 -0.04667068 -0.19102953 -0.24369522\n",
      " -0.01476296  0.05230506  0.11845806  0.13807033  0.09313426  0.08909073\n",
      " -0.07575201  0.02977349 -0.03021938 -0.05046058  0.12626573  0.08643331\n",
      "  0.14562448  0.18174805  0.25500649 -0.12166898 -0.03595046 -0.06742598\n",
      " -0.05171714  0.17596708  0.12338568  0.05939913 -0.01636759 -0.33212826\n",
      "  0.45016646  0.05446244  0.1655614  -0.09972016 -0.07974855 -0.23842155\n",
      " -0.0137969  -0.13495874  0.05146296  0.02771051 -0.01189323 -0.07512697\n",
      " -0.21020137  0.10224506 -0.29530639  0.12007457 -0.00305177 -0.05635925\n",
      "  0.12119773  0.10144352  0.18006111  0.18257559 -0.05731089  0.18862363\n",
      " -0.20968091 -0.03321245 -0.1928243  -0.01140871 -0.16041927  0.07881591\n",
      "  0.08512089 -0.20137112  0.31256739 -0.09255539 -0.02584424  0.02111611\n",
      "  0.14564209  0.30630389  0.25897656  0.1162013   0.1060239   0.2551845\n",
      " -0.02892881  0.07143325 -0.16656225  0.20402252  0.31853543 -0.15472106\n",
      " -0.20284078  0.12264724 -0.0649747   0.05661852  0.10756965 -0.05381238\n",
      " -0.15100013  0.38192767  0.03068347 -0.11347669 -0.01141743 -0.1062349\n",
      " -0.03662441  0.07201558 -0.01867894 -0.02480682  0.19416933 -0.13019353\n",
      "  0.03388429  0.12946477 -0.2066126  -0.0587394  -0.18450332 -0.0768596\n",
      " -0.0037063   0.19930174  0.15587567  0.14963654 -0.22001208  0.13164493\n",
      " -0.14685151 -0.04351264  0.0520262   0.05972824  0.06805268 -0.04522122\n",
      "  0.18025494 -0.16538642  0.16367814  0.21599685 -0.17032373  0.15768922\n",
      "  0.08199387 -0.01926601  0.0765314  -0.14300027 -0.3240429   0.06926848\n",
      "  0.04183768  0.07813684 -0.06471343 -0.03121071 -0.02006774 -0.0773051 ]\n",
      "The norm of the residual is  8.288197612962682\n"
     ]
    }
   ],
   "source": [
    "# Import packages.\n",
    "import numpy as np\n",
    "\n",
    "# Generate data.\n",
    "m = 200\n",
    "n = 150\n",
    "np.random.seed(1)\n",
    "X = np.random.randn(m, n)\n",
    "y = np.random.randn(m)\n",
    "\n",
    "# Calculate pseudo inverse matrix\n",
    "theta_opt = np.linalg.pinv(X) @ y\n",
    "\n",
    "# Print result.\n",
    "print(\"The optimal theta is\")\n",
    "print(theta_opt)\n",
    "print(\"The norm of the residual is \", np.linalg.norm(X @ theta_opt - y))"
   ]
  },
  {
   "cell_type": "markdown",
   "metadata": {
    "colab_type": "text",
    "id": "R-JSUVFka4OI"
   },
   "source": [
    "# Time comparison"
   ]
  },
  {
   "cell_type": "code",
   "execution_count": 0,
   "metadata": {
    "colab": {},
    "colab_type": "code",
    "id": "sLeyjEJta6Iq"
   },
   "outputs": [],
   "source": [
    "# Imports and definitions.\n",
    "import cvxpy as cp\n",
    "import numpy as np\n",
    "import time\n",
    "import scipy\n",
    "from matplotlib import pyplot as plt\n",
    "import seaborn as sns\n",
    "sns.set()\n",
    "\n",
    "def solve_lls_cvxpy(X, y):\n",
    "  m,n = X.shape\n",
    "  theta = cp.Variable(n)\n",
    "  cost = cp.sum_squares(X*theta - y)\n",
    "  prob = cp.Problem(cp.Minimize(cost))\n",
    "  prob.solve()\n",
    "  return theta.value\n",
    "\n",
    "def solve_lls_exact(X, y):\n",
    "  return np.linalg.pinv(X) @ y\n",
    "\n",
    "def solve_lls_exact_man(X, y):\n",
    "  return np.linalg.inv(X.T @ X) @ X.T @ y\n",
    "\n",
    "def solve_lls_chol(X, y):\n",
    "    res = scipy.linalg.cho_factor(X.T @ X, lower=True)\n",
    "    return scipy.linalg.cho_solve(res, X.T @ y)\n",
    "\n",
    "def solve_lls_qr(X, y):\n",
    "    Q, R = scipy.linalg.qr(X)\n",
    "    return scipy.linalg.solve_triangular(R, Q.T @ y)\n",
    "\n",
    "def plot_timing(ns, time_arrays, labels):\n",
    "  for time_array, label in zip(time_arrays, labels):\n",
    "    plt.semilogy(ns, time_array, label=label)\n",
    "\n",
    "  plt.title('Random square linear system')\n",
    "  plt.ylabel('Time, s')\n",
    "  plt.xlabel(r'$n$, dimension of the problem')    \n",
    "  plt.legend()\n",
    "  plt.plot()\n",
    "\n",
    "  return None"
   ]
  },
  {
   "cell_type": "code",
   "execution_count": 0,
   "metadata": {
    "colab": {
     "base_uri": "https://localhost:8080/",
     "height": 494
    },
    "colab_type": "code",
    "executionInfo": {
     "elapsed": 1704,
     "status": "ok",
     "timestamp": 1565102480774,
     "user": {
      "displayName": "bratishka mipt",
      "photoUrl": "https://lh5.googleusercontent.com/-9IIP6CLU5e0/AAAAAAAAAAI/AAAAAAAAD5E/EEWiMgGGI3w/s64/photo.jpg",
      "userId": "17142413044964926720"
     },
     "user_tz": -180
    },
    "id": "tvP9KJmdedTO",
    "outputId": "4bc8aaf1-5d10-413d-b68d-9d0e479b38cd"
   },
   "outputs": [
    {
     "name": "stdout",
     "output_type": "stream",
     "text": [
      "Solving for 1\n",
      "Solving for 41\n",
      "Solving for 82\n",
      "Solving for 123\n",
      "Solving for 164\n",
      "Solving for 204\n",
      "Solving for 245\n",
      "Solving for 286\n",
      "Solving for 327\n",
      "Solving for 368\n",
      "Solving for 408\n",
      "Solving for 449\n",
      "Solving for 490\n",
      "Solving for 531\n",
      "Solving for 572\n",
      "Solving for 612\n",
      "Solving for 653\n",
      "Solving for 694\n",
      "Solving for 735\n",
      "Solving for 776\n",
      "Solving for 816\n",
      "Solving for 857\n",
      "Solving for 898\n",
      "Solving for 939\n",
      "Solving for 980\n"
     ]
    }
   ],
   "source": [
    "np.random.seed(1)\n",
    "times_cvxpy     = []\n",
    "times_exact     = []\n",
    "times_exact_man = []\n",
    "times_chol      = []\n",
    "times_qr        = []\n",
    "\n",
    "labels = ['cvxpy', 'pinv', 'exact', 'chol', 'qr']\n",
    "\n",
    "\n",
    "ns = np.linspace(1, 2000).astype(int)\n",
    "\n",
    "for n in ns:\n",
    "  print('Solving for {}'.format(n))\n",
    "  X = np.random.randn(n, n)\n",
    "  y = np.random.randn(n)\n",
    "\n",
    "  start_time = time.time()\n",
    "  solve_lls_cvxpy(X, y)\n",
    "  end_time = time.time()\n",
    "  times_cvxpy.append(end_time - start_time)\n",
    "\n",
    "  start_time = time.time()\n",
    "  solve_lls_exact_man(X, y)\n",
    "  end_time = time.time()\n",
    "  times_exact_man.append(end_time - start_time)\n",
    "\n",
    "  start_time = time.time()\n",
    "  solve_lls_exact(X, y)\n",
    "  end_time = time.time()\n",
    "  times_exact.append(end_time - start_time)\n",
    "\n",
    "  start_time = time.time()\n",
    "  solve_lls_chol(X, y)\n",
    "  end_time = time.time()\n",
    "  times_chol.append(end_time - start_time)\n",
    "\n",
    "  start_time = time.time()\n",
    "  solve_lls_qr(X, y)\n",
    "  end_time = time.time()\n",
    "  times_qr.append(end_time - start_time)\n",
    "\n",
    "plot_timing(ns, [times_cvxpy, times_exact, times_exact_man, times_chol, times_qr], labels)\n",
    "plt.savefig('lls_times.svg')"
   ]
  },
  {
   "cell_type": "markdown",
   "metadata": {
    "colab_type": "text",
    "id": "6RxLa49F2KqI"
   },
   "source": [
    "# Non-linear fitting with linear least squares"
   ]
  },
  {
   "cell_type": "code",
   "execution_count": 0,
   "metadata": {
    "colab": {
     "base_uri": "https://localhost:8080/",
     "height": 304
    },
    "colab_type": "code",
    "executionInfo": {
     "elapsed": 1283,
     "status": "ok",
     "timestamp": 1565027671716,
     "user": {
      "displayName": "bratishka mipt",
      "photoUrl": "https://lh5.googleusercontent.com/-9IIP6CLU5e0/AAAAAAAAAAI/AAAAAAAAD5E/EEWiMgGGI3w/s64/photo.jpg",
      "userId": "17142413044964926720"
     },
     "user_tz": -180
    },
    "id": "Dp5Hd3-jfWbO",
    "outputId": "5083d84e-a59d-4e2b-9da8-227535682c39"
   },
   "outputs": [
    {
     "data": {
      "image/png": "[encoded data removed]",
      "text/plain": [
       "<Figure size 432x288 with 1 Axes>"
      ]
     },
     "metadata": {
      "tags": []
     },
     "output_type": "display_data"
    }
   ],
   "source": [
    "# Generate the data\n",
    "x = np.linspace(-10, 10)\n",
    "y = x + 2*np.sin(x) + np.random.randn(*x.shape)\n",
    "\n",
    "X = np.zeros((len(x), 2))\n",
    "X[:, 0], X[:, 1] = x, np.sin(x)\n",
    "\n",
    "# Solve lls problem\n",
    "theta = solve_lls_exact(X, y)\n",
    "\n",
    "# PLot the results\n",
    "plt.xlabel('x')\n",
    "plt.ylabel('Function value')\n",
    "plt.plot(x, y, 'ro', label=r'Data. $y(x) =  x + 2\\sin (x) +  \\mathcal{N}(0,1)$')\n",
    "plt.plot(x, theta[0]*x + theta[1]*np.sin(x), label=r'Fit.     $y(x) = \\theta_0 \\cdot x + \\theta_1 \\cdot \\sin (x)$')\n",
    "plt.title(r'Linear least squares. $\\theta_0 = {:.3}, \\theta_1 = {:.3}$'.format(*theta))\n",
    "plt.legend()\n",
    "# plt.show()\n",
    "plt.savefig('non_linear_fit.svg')"
   ]
  }
 ],
 "metadata": {
  "colab": {
   "name": "Least_squares.ipynb",
   "provenance": [],
   "version": "0.3.2"
  },
  "kernelspec": {
   "display_name": "Python 3",
   "language": "python",
   "name": "python3"
  },
  "language_info": {
   "codemirror_mode": {
    "name": "ipython",
    "version": 3
   },
   "file_extension": ".py",
   "mimetype": "text/x-python",
   "name": "python",
   "nbconvert_exporter": "python",
   "pygments_lexer": "ipython3",
   "version": "3.7.4"
  },
  "toc": {
   "base_numbering": 1,
   "nav_menu": {},
   "number_sections": true,
   "sideBar": true,
   "skip_h1_title": false,
   "title_cell": "Table of Contents",
   "title_sidebar": "Contents",
   "toc_cell": false,
   "toc_position": {},
   "toc_section_display": true,
   "toc_window_display": false
  }
 },
 "nbformat": 4,
 "nbformat_minor": 1
}
